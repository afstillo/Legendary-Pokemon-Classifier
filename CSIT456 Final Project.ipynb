{
 "cells": [
  {
   "cell_type": "markdown",
   "metadata": {},
   "source": [
    "# CSIT456 Final Project: Legendary Pokémon Classifier\n",
    "Andre Stillo"
   ]
  },
  {
   "cell_type": "markdown",
   "metadata": {},
   "source": [
    "## Import Statements"
   ]
  },
  {
   "cell_type": "code",
   "execution_count": 1,
   "metadata": {},
   "outputs": [],
   "source": [
    "import numpy as np\n",
    "import pandas as pd\n",
    "import matplotlib.pyplot as plt\n",
    "import seaborn as sns"
   ]
  },
  {
   "cell_type": "markdown",
   "metadata": {},
   "source": [
    "## Loading the Dataset"
   ]
  },
  {
   "cell_type": "markdown",
   "metadata": {},
   "source": [
    "This dataset contains information from the first seven mainline Pokémon games regarding all existing Pokémon up until that point (802 samples). 41 different categories are present (one is used for indexing, so effectivelty there are 40): \n",
    "1. name: The English name of the Pokémon.\n",
    "2. japanese_name: The Japanese name of the Pokémon.\n",
    "3. pokedex_number: The entry number of the Pokémon in the National Pokdex. **In this assignment, this entry is used as the index to reduce confusion when indexing, since this starts at 1 instead of 0.**\n",
    "4. percentage_male: Percentage of the species that is male. Blank if the Pokémon is genderless.\n",
    "5. type1: Primary type of the Pokémon.\n",
    "6. type2: Secondary type of the Pokémon.\n",
    "7. classification: Classification of the Pokémon.\n",
    "8. height_m: Height in meters.\n",
    "9. weight_kg: Weight in kilograms.\n",
    "10. capture_rate: Probability of capture.\n",
    "11. base_egg_steps: Number of steps required to hatch an egg of the Pokémon.\n",
    "12. abilities: Stringified list of possible abilities.\n",
    "13. experience_growth: Experience needed to reach level 100.\n",
    "14. base_happiness: Base happiness level of the Pokémon.\n",
    "15. against_?: 18 features denoting the damage a particular type of attack will do to the Pokémon.\n",
    "16. hp: Base HP.\n",
    "17. attack: Base attack.\n",
    "18. defense: Base defense.\n",
    "19. sp_attack: Base special attack.\n",
    "20. sp_defense: Base special defense.\n",
    "21. speed: Base speed.\n",
    "22. base_total: total of all stats.\n",
    "23. generation: Numbered generation in which the Pokémon was introduced (NOTE: Generation refers to the game number. Pokémon released in the second game are considered to be from the second generation)\n",
    "24. is_legendary: Denotes if the Pokémon is legendary (**TARGET VARIABLE**)\n",
    "\n",
    "The target is to predict if a Pokémon is legendary based on the present predictor variables. While no explicit criteria exist for a Pokémon to be considered legendary beyond \"the game developers said so,\" they are generally considered to be extremely rare and powerful. Several features are generally thought to be directly correlated with this, including hgih capture rate, high experience growth, high base stat total, and 9even though these pokemon cannot be hatched from eggs) high base egg steps. These factors should make it possible to build a classifier for legendary Pokémon.\n",
    "\n",
    "Dataset source: https://www.kaggle.com/rounakbanik/pokemon"
   ]
  },
  {
   "cell_type": "code",
   "execution_count": 2,
   "metadata": {},
   "outputs": [
    {
     "data": {
      "text/html": [
       "<div>\n",
       "<style scoped>\n",
       "    .dataframe tbody tr th:only-of-type {\n",
       "        vertical-align: middle;\n",
       "    }\n",
       "\n",
       "    .dataframe tbody tr th {\n",
       "        vertical-align: top;\n",
       "    }\n",
       "\n",
       "    .dataframe thead th {\n",
       "        text-align: right;\n",
       "    }\n",
       "</style>\n",
       "<table border=\"1\" class=\"dataframe\">\n",
       "  <thead>\n",
       "    <tr style=\"text-align: right;\">\n",
       "      <th></th>\n",
       "      <th>abilities</th>\n",
       "      <th>against_bug</th>\n",
       "      <th>against_dark</th>\n",
       "      <th>against_dragon</th>\n",
       "      <th>against_electric</th>\n",
       "      <th>against_fairy</th>\n",
       "      <th>against_fight</th>\n",
       "      <th>against_fire</th>\n",
       "      <th>against_flying</th>\n",
       "      <th>against_ghost</th>\n",
       "      <th>...</th>\n",
       "      <th>name</th>\n",
       "      <th>percentage_male</th>\n",
       "      <th>sp_attack</th>\n",
       "      <th>sp_defense</th>\n",
       "      <th>speed</th>\n",
       "      <th>type1</th>\n",
       "      <th>type2</th>\n",
       "      <th>weight_kg</th>\n",
       "      <th>generation</th>\n",
       "      <th>is_legendary</th>\n",
       "    </tr>\n",
       "    <tr>\n",
       "      <th>pokedex_number</th>\n",
       "      <th></th>\n",
       "      <th></th>\n",
       "      <th></th>\n",
       "      <th></th>\n",
       "      <th></th>\n",
       "      <th></th>\n",
       "      <th></th>\n",
       "      <th></th>\n",
       "      <th></th>\n",
       "      <th></th>\n",
       "      <th></th>\n",
       "      <th></th>\n",
       "      <th></th>\n",
       "      <th></th>\n",
       "      <th></th>\n",
       "      <th></th>\n",
       "      <th></th>\n",
       "      <th></th>\n",
       "      <th></th>\n",
       "      <th></th>\n",
       "      <th></th>\n",
       "    </tr>\n",
       "  </thead>\n",
       "  <tbody>\n",
       "    <tr>\n",
       "      <th>1</th>\n",
       "      <td>['Overgrow', 'Chlorophyll']</td>\n",
       "      <td>1.0</td>\n",
       "      <td>1.0</td>\n",
       "      <td>1.0</td>\n",
       "      <td>0.5</td>\n",
       "      <td>0.5</td>\n",
       "      <td>0.5</td>\n",
       "      <td>2.0</td>\n",
       "      <td>2.0</td>\n",
       "      <td>1.0</td>\n",
       "      <td>...</td>\n",
       "      <td>Bulbasaur</td>\n",
       "      <td>88.1</td>\n",
       "      <td>65</td>\n",
       "      <td>65</td>\n",
       "      <td>45</td>\n",
       "      <td>grass</td>\n",
       "      <td>poison</td>\n",
       "      <td>6.9</td>\n",
       "      <td>1</td>\n",
       "      <td>0</td>\n",
       "    </tr>\n",
       "    <tr>\n",
       "      <th>2</th>\n",
       "      <td>['Overgrow', 'Chlorophyll']</td>\n",
       "      <td>1.0</td>\n",
       "      <td>1.0</td>\n",
       "      <td>1.0</td>\n",
       "      <td>0.5</td>\n",
       "      <td>0.5</td>\n",
       "      <td>0.5</td>\n",
       "      <td>2.0</td>\n",
       "      <td>2.0</td>\n",
       "      <td>1.0</td>\n",
       "      <td>...</td>\n",
       "      <td>Ivysaur</td>\n",
       "      <td>88.1</td>\n",
       "      <td>80</td>\n",
       "      <td>80</td>\n",
       "      <td>60</td>\n",
       "      <td>grass</td>\n",
       "      <td>poison</td>\n",
       "      <td>13.0</td>\n",
       "      <td>1</td>\n",
       "      <td>0</td>\n",
       "    </tr>\n",
       "    <tr>\n",
       "      <th>3</th>\n",
       "      <td>['Overgrow', 'Chlorophyll']</td>\n",
       "      <td>1.0</td>\n",
       "      <td>1.0</td>\n",
       "      <td>1.0</td>\n",
       "      <td>0.5</td>\n",
       "      <td>0.5</td>\n",
       "      <td>0.5</td>\n",
       "      <td>2.0</td>\n",
       "      <td>2.0</td>\n",
       "      <td>1.0</td>\n",
       "      <td>...</td>\n",
       "      <td>Venusaur</td>\n",
       "      <td>88.1</td>\n",
       "      <td>122</td>\n",
       "      <td>120</td>\n",
       "      <td>80</td>\n",
       "      <td>grass</td>\n",
       "      <td>poison</td>\n",
       "      <td>100.0</td>\n",
       "      <td>1</td>\n",
       "      <td>0</td>\n",
       "    </tr>\n",
       "    <tr>\n",
       "      <th>4</th>\n",
       "      <td>['Blaze', 'Solar Power']</td>\n",
       "      <td>0.5</td>\n",
       "      <td>1.0</td>\n",
       "      <td>1.0</td>\n",
       "      <td>1.0</td>\n",
       "      <td>0.5</td>\n",
       "      <td>1.0</td>\n",
       "      <td>0.5</td>\n",
       "      <td>1.0</td>\n",
       "      <td>1.0</td>\n",
       "      <td>...</td>\n",
       "      <td>Charmander</td>\n",
       "      <td>88.1</td>\n",
       "      <td>60</td>\n",
       "      <td>50</td>\n",
       "      <td>65</td>\n",
       "      <td>fire</td>\n",
       "      <td>NaN</td>\n",
       "      <td>8.5</td>\n",
       "      <td>1</td>\n",
       "      <td>0</td>\n",
       "    </tr>\n",
       "    <tr>\n",
       "      <th>5</th>\n",
       "      <td>['Blaze', 'Solar Power']</td>\n",
       "      <td>0.5</td>\n",
       "      <td>1.0</td>\n",
       "      <td>1.0</td>\n",
       "      <td>1.0</td>\n",
       "      <td>0.5</td>\n",
       "      <td>1.0</td>\n",
       "      <td>0.5</td>\n",
       "      <td>1.0</td>\n",
       "      <td>1.0</td>\n",
       "      <td>...</td>\n",
       "      <td>Charmeleon</td>\n",
       "      <td>88.1</td>\n",
       "      <td>80</td>\n",
       "      <td>65</td>\n",
       "      <td>80</td>\n",
       "      <td>fire</td>\n",
       "      <td>NaN</td>\n",
       "      <td>19.0</td>\n",
       "      <td>1</td>\n",
       "      <td>0</td>\n",
       "    </tr>\n",
       "  </tbody>\n",
       "</table>\n",
       "<p>5 rows × 40 columns</p>\n",
       "</div>"
      ],
      "text/plain": [
       "                                  abilities  against_bug  against_dark  \\\n",
       "pokedex_number                                                           \n",
       "1               ['Overgrow', 'Chlorophyll']          1.0           1.0   \n",
       "2               ['Overgrow', 'Chlorophyll']          1.0           1.0   \n",
       "3               ['Overgrow', 'Chlorophyll']          1.0           1.0   \n",
       "4                  ['Blaze', 'Solar Power']          0.5           1.0   \n",
       "5                  ['Blaze', 'Solar Power']          0.5           1.0   \n",
       "\n",
       "                against_dragon  against_electric  against_fairy  \\\n",
       "pokedex_number                                                    \n",
       "1                          1.0               0.5            0.5   \n",
       "2                          1.0               0.5            0.5   \n",
       "3                          1.0               0.5            0.5   \n",
       "4                          1.0               1.0            0.5   \n",
       "5                          1.0               1.0            0.5   \n",
       "\n",
       "                against_fight  against_fire  against_flying  against_ghost  \\\n",
       "pokedex_number                                                               \n",
       "1                         0.5           2.0             2.0            1.0   \n",
       "2                         0.5           2.0             2.0            1.0   \n",
       "3                         0.5           2.0             2.0            1.0   \n",
       "4                         1.0           0.5             1.0            1.0   \n",
       "5                         1.0           0.5             1.0            1.0   \n",
       "\n",
       "                ...        name  percentage_male  sp_attack  sp_defense  \\\n",
       "pokedex_number  ...                                                       \n",
       "1               ...   Bulbasaur             88.1         65          65   \n",
       "2               ...     Ivysaur             88.1         80          80   \n",
       "3               ...    Venusaur             88.1        122         120   \n",
       "4               ...  Charmander             88.1         60          50   \n",
       "5               ...  Charmeleon             88.1         80          65   \n",
       "\n",
       "                speed  type1   type2  weight_kg  generation  is_legendary  \n",
       "pokedex_number                                                             \n",
       "1                  45  grass  poison        6.9           1             0  \n",
       "2                  60  grass  poison       13.0           1             0  \n",
       "3                  80  grass  poison      100.0           1             0  \n",
       "4                  65   fire     NaN        8.5           1             0  \n",
       "5                  80   fire     NaN       19.0           1             0  \n",
       "\n",
       "[5 rows x 40 columns]"
      ]
     },
     "execution_count": 2,
     "metadata": {},
     "output_type": "execute_result"
    }
   ],
   "source": [
    "data = pd.read_csv(\"pokemon.csv\", index_col='pokedex_number')\n",
    "#Setting the index as the pokedex number to avoid confusion.\n",
    "data.head()"
   ]
  },
  {
   "cell_type": "code",
   "execution_count": 3,
   "metadata": {},
   "outputs": [
    {
     "name": "stdout",
     "output_type": "stream",
     "text": [
      "<class 'pandas.core.frame.DataFrame'>\n",
      "Int64Index: 801 entries, 1 to 801\n",
      "Data columns (total 40 columns):\n",
      " #   Column             Non-Null Count  Dtype  \n",
      "---  ------             --------------  -----  \n",
      " 0   abilities          801 non-null    object \n",
      " 1   against_bug        801 non-null    float64\n",
      " 2   against_dark       801 non-null    float64\n",
      " 3   against_dragon     801 non-null    float64\n",
      " 4   against_electric   801 non-null    float64\n",
      " 5   against_fairy      801 non-null    float64\n",
      " 6   against_fight      801 non-null    float64\n",
      " 7   against_fire       801 non-null    float64\n",
      " 8   against_flying     801 non-null    float64\n",
      " 9   against_ghost      801 non-null    float64\n",
      " 10  against_grass      801 non-null    float64\n",
      " 11  against_ground     801 non-null    float64\n",
      " 12  against_ice        801 non-null    float64\n",
      " 13  against_normal     801 non-null    float64\n",
      " 14  against_poison     801 non-null    float64\n",
      " 15  against_psychic    801 non-null    float64\n",
      " 16  against_rock       801 non-null    float64\n",
      " 17  against_steel      801 non-null    float64\n",
      " 18  against_water      801 non-null    float64\n",
      " 19  attack             801 non-null    int64  \n",
      " 20  base_egg_steps     801 non-null    int64  \n",
      " 21  base_happiness     801 non-null    int64  \n",
      " 22  base_total         801 non-null    int64  \n",
      " 23  capture_rate       801 non-null    object \n",
      " 24  classfication      801 non-null    object \n",
      " 25  defense            801 non-null    int64  \n",
      " 26  experience_growth  801 non-null    int64  \n",
      " 27  height_m           781 non-null    float64\n",
      " 28  hp                 801 non-null    int64  \n",
      " 29  japanese_name      801 non-null    object \n",
      " 30  name               801 non-null    object \n",
      " 31  percentage_male    703 non-null    float64\n",
      " 32  sp_attack          801 non-null    int64  \n",
      " 33  sp_defense         801 non-null    int64  \n",
      " 34  speed              801 non-null    int64  \n",
      " 35  type1              801 non-null    object \n",
      " 36  type2              417 non-null    object \n",
      " 37  weight_kg          781 non-null    float64\n",
      " 38  generation         801 non-null    int64  \n",
      " 39  is_legendary       801 non-null    int64  \n",
      "dtypes: float64(21), int64(12), object(7)\n",
      "memory usage: 256.6+ KB\n"
     ]
    }
   ],
   "source": [
    "data.info()"
   ]
  },
  {
   "cell_type": "markdown",
   "metadata": {},
   "source": [
    "## Data Cleaning & Preparation"
   ]
  },
  {
   "cell_type": "markdown",
   "metadata": {},
   "source": [
    "Checking the data over for null values."
   ]
  },
  {
   "cell_type": "code",
   "execution_count": 4,
   "metadata": {},
   "outputs": [
    {
     "data": {
      "text/plain": [
       "abilities              0\n",
       "against_bug            0\n",
       "against_dark           0\n",
       "against_dragon         0\n",
       "against_electric       0\n",
       "against_fairy          0\n",
       "against_fight          0\n",
       "against_fire           0\n",
       "against_flying         0\n",
       "against_ghost          0\n",
       "against_grass          0\n",
       "against_ground         0\n",
       "against_ice            0\n",
       "against_normal         0\n",
       "against_poison         0\n",
       "against_psychic        0\n",
       "against_rock           0\n",
       "against_steel          0\n",
       "against_water          0\n",
       "attack                 0\n",
       "base_egg_steps         0\n",
       "base_happiness         0\n",
       "base_total             0\n",
       "capture_rate           0\n",
       "classfication          0\n",
       "defense                0\n",
       "experience_growth      0\n",
       "height_m              20\n",
       "hp                     0\n",
       "japanese_name          0\n",
       "name                   0\n",
       "percentage_male       98\n",
       "sp_attack              0\n",
       "sp_defense             0\n",
       "speed                  0\n",
       "type1                  0\n",
       "type2                384\n",
       "weight_kg             20\n",
       "generation             0\n",
       "is_legendary           0\n",
       "dtype: int64"
      ]
     },
     "execution_count": 4,
     "metadata": {},
     "output_type": "execute_result"
    }
   ],
   "source": [
    "data.isnull().sum()"
   ]
  },
  {
   "cell_type": "markdown",
   "metadata": {},
   "source": [
    "Four categories contain null values."
   ]
  },
  {
   "cell_type": "markdown",
   "metadata": {},
   "source": [
    "### percentage_male"
   ]
  },
  {
   "cell_type": "markdown",
   "metadata": {},
   "source": [
    "For this column, it was stated in the source of the dataset that a null value implies that the Pokémon is exclisively genderless. In order to prevent errors, however, this will be changed to 0. While this is technically correct, it could also imply a 100% female rate, but this is still likely the best choice."
   ]
  },
  {
   "cell_type": "code",
   "execution_count": 5,
   "metadata": {},
   "outputs": [],
   "source": [
    "data['percentage_male'].fillna(0, inplace=True)"
   ]
  },
  {
   "cell_type": "markdown",
   "metadata": {},
   "source": [
    "### type2"
   ]
  },
  {
   "cell_type": "markdown",
   "metadata": {},
   "source": [
    "In regards to the null values in the type2 category, this is easily explained. Pokémon have at least one, but potentially two types, with the second being optional. As such, any Pokémon with only one type has a null value for their second type. These null values will be replaced with 'None' as a solution to this."
   ]
  },
  {
   "cell_type": "code",
   "execution_count": 6,
   "metadata": {},
   "outputs": [
    {
     "data": {
      "text/plain": [
       "0"
      ]
     },
     "execution_count": 6,
     "metadata": {},
     "output_type": "execute_result"
    }
   ],
   "source": [
    "data['type2'].fillna('None', inplace=True)\n",
    "data['type2'].isnull().sum()"
   ]
  },
  {
   "cell_type": "markdown",
   "metadata": {},
   "source": [
    "### height_m and weight_kg"
   ]
  },
  {
   "cell_type": "markdown",
   "metadata": {},
   "source": [
    "Null values in these categories are much less easily explained, as no Pokémon actually has an unknown height or weight. As such, it seemed important to see exactly which values were unknown."
   ]
  },
  {
   "cell_type": "code",
   "execution_count": 7,
   "metadata": {},
   "outputs": [
    {
     "data": {
      "text/plain": [
       "pokedex_number\n",
       "19       Rattata\n",
       "20      Raticate\n",
       "26        Raichu\n",
       "27     Sandshrew\n",
       "28     Sandslash\n",
       "37        Vulpix\n",
       "38     Ninetales\n",
       "50       Diglett\n",
       "51       Dugtrio\n",
       "52        Meowth\n",
       "53       Persian\n",
       "74       Geodude\n",
       "75      Graveler\n",
       "76         Golem\n",
       "88        Grimer\n",
       "89           Muk\n",
       "103    Exeggutor\n",
       "105      Marowak\n",
       "720        Hoopa\n",
       "745     Lycanroc\n",
       "Name: name, dtype: object"
      ]
     },
     "execution_count": 7,
     "metadata": {},
     "output_type": "execute_result"
    }
   ],
   "source": [
    "mask = data['height_m'].isnull() | data['weight_kg'].isnull()\n",
    "data[mask].name\n",
    "#NOTE: Code referenced from this link:\n",
    "# https://stackoverflow.com/questions/40408471/select-data-when-specific-columns-have-null-value-in-pandas"
   ]
  },
  {
   "cell_type": "code",
   "execution_count": 8,
   "metadata": {},
   "outputs": [
    {
     "data": {
      "text/plain": [
       "20"
      ]
     },
     "execution_count": 8,
     "metadata": {},
     "output_type": "execute_result"
    }
   ],
   "source": [
    "data[mask].shape[0]"
   ]
  },
  {
   "cell_type": "markdown",
   "metadata": {},
   "source": [
    "Since the same 20 Pokémon have this issue for both height and weight, it can be concluded just why these null values exist, and what to replace them with.\n",
    "\n",
    "From the fact that this dataset has not been updated since the seventh generation of games (at this point, there is in fact an eight generation,but we will ignore it for the sake of staying consistent with the data), there is a very clear pattern as to the entries that have these null values. That being that every single one received an alternate form in the seventh generation of games. Those in the above list up to 104 recieved an alternate form called Alolan forms (the ingame explanation of which was a species mutation based on area), while Hoopa recieved an event exclusive Unbound form through the use of a certain item, and Lycanroc has a different form depending on the time of day it is encountered. While each of these forms do have different data, we will disregard them for the sake of this dataset. The fact is that the missing values of these Pokémon do exist, in fact it exists on the same website that the dataset is scraped from (http://serebii.net/), it is just likely that at the time of scraping, this data was unavailable as they were unsure of how to handle these alternate forms.\n",
    "\n",
    "As such, though tedious, best course of action is filling in the accurate data from that same source.\n",
    "\n",
    "All the following data was taken directly from http://serebii.net/"
   ]
  },
  {
   "cell_type": "code",
   "execution_count": 9,
   "metadata": {},
   "outputs": [],
   "source": [
    "#Rattata\n",
    "data.at[19, 'height_m'] = 0.3\n",
    "data.at[19, 'weight_kg'] = 3.5\n",
    "\n",
    "#Raticate\n",
    "data.at[20, 'height_m'] = 0.7\n",
    "data.at[20, 'weight_kg'] = 18.5\n",
    "\n",
    "#Raichu\n",
    "data.at[26, 'height_m'] = 0.8\n",
    "data.at[26, 'weight_kg'] = 30.0\n",
    "\n",
    "#Sandshrew\n",
    "data.at[27, 'height_m'] = 0.6\n",
    "data.at[27, 'weight_kg'] = 12.0\n",
    "\n",
    "#Sandslash\n",
    "data.at[28, 'height_m'] = 1.0\n",
    "data.at[28, 'weight_kg'] = 29.5\n",
    "\n",
    "#Vulpix\n",
    "data.at[37, 'height_m'] = 0.6\n",
    "data.at[37, 'weight_kg'] = 9.9\n",
    "\n",
    "#Ninetails\n",
    "data.at[38, 'height_m'] = 1.1\n",
    "data.at[38, 'weight_kg'] = 19.9\n",
    "\n",
    "#Diglett\n",
    "data.at[50, 'height_m'] = .2\n",
    "data.at[50, 'weight_kg'] = .8\n",
    "\n",
    "#Dugtrio\n",
    "data.at[51, 'height_m'] = .7\n",
    "data.at[51, 'weight_kg'] = 33.3\n",
    "\n",
    "#Meowth\n",
    "data.at[52, 'height_m'] = .4\n",
    "data.at[52, 'weight_kg'] = 4.2\n",
    "\n",
    "#Persian\n",
    "data.at[53, 'height_m'] = 1\n",
    "data.at[53, 'weight_kg'] = 32\n",
    "\n",
    "#Geodude\n",
    "data.at[74, 'height_m'] = .4\n",
    "data.at[74, 'weight_kg'] = 20\n",
    "\n",
    "#Graveler\n",
    "data.at[75, 'height_m'] = 1\n",
    "data.at[75, 'weight_kg'] = 105\n",
    "\n",
    "#Golem\n",
    "data.at[76, 'height_m'] = 1.4\n",
    "data.at[76, 'weight_kg'] = 300\n",
    "\n",
    "#Grimer\n",
    "data.at[88, 'height_m'] = .9\n",
    "data.at[88, 'weight_kg'] = 30\n",
    "\n",
    "#Muk\n",
    "data.at[89, 'height_m'] = 1.2\n",
    "data.at[89, 'weight_kg'] = 30\n",
    "\n",
    "#Exeggutor\n",
    "data.at[103, 'height_m'] = 2\n",
    "data.at[103, 'weight_kg'] = 120\n",
    "\n",
    "#Marowak\n",
    "data.at[105, 'height_m'] = 1\n",
    "data.at[105, 'weight_kg'] = 45\n",
    "\n",
    "#Hoopa\n",
    "data.at[720, 'height_m'] = .5\n",
    "data.at[720, 'weight_kg'] = 9\n",
    "\n",
    "#Lycanroc\n",
    "data.at[745, 'height_m'] = .8\n",
    "data.at[745, 'weight_kg'] = 25"
   ]
  },
  {
   "cell_type": "code",
   "execution_count": 10,
   "metadata": {},
   "outputs": [
    {
     "data": {
      "text/plain": [
       "abilities            0\n",
       "against_bug          0\n",
       "against_dark         0\n",
       "against_dragon       0\n",
       "against_electric     0\n",
       "against_fairy        0\n",
       "against_fight        0\n",
       "against_fire         0\n",
       "against_flying       0\n",
       "against_ghost        0\n",
       "against_grass        0\n",
       "against_ground       0\n",
       "against_ice          0\n",
       "against_normal       0\n",
       "against_poison       0\n",
       "against_psychic      0\n",
       "against_rock         0\n",
       "against_steel        0\n",
       "against_water        0\n",
       "attack               0\n",
       "base_egg_steps       0\n",
       "base_happiness       0\n",
       "base_total           0\n",
       "capture_rate         0\n",
       "classfication        0\n",
       "defense              0\n",
       "experience_growth    0\n",
       "height_m             0\n",
       "hp                   0\n",
       "japanese_name        0\n",
       "name                 0\n",
       "percentage_male      0\n",
       "sp_attack            0\n",
       "sp_defense           0\n",
       "speed                0\n",
       "type1                0\n",
       "type2                0\n",
       "weight_kg            0\n",
       "generation           0\n",
       "is_legendary         0\n",
       "dtype: int64"
      ]
     },
     "execution_count": 10,
     "metadata": {},
     "output_type": "execute_result"
    }
   ],
   "source": [
    "data.isnull().sum()"
   ]
  },
  {
   "cell_type": "markdown",
   "metadata": {},
   "source": [
    "This eliminates all null values."
   ]
  },
  {
   "cell_type": "markdown",
   "metadata": {},
   "source": [
    "One other small bit of preprocessing is being done to prevent errors, specifically related to the Pokémon Minior. This Pokémon has two different forms (meteorite and core), and has different capture rates in each form, which is reflected in its entry in this column."
   ]
  },
  {
   "cell_type": "code",
   "execution_count": 11,
   "metadata": {},
   "outputs": [
    {
     "data": {
      "text/plain": [
       "'30 (Meteorite)255 (Core)'"
      ]
     },
     "execution_count": 11,
     "metadata": {},
     "output_type": "execute_result"
    }
   ],
   "source": [
    "data.at[774, 'capture_rate']"
   ]
  },
  {
   "cell_type": "markdown",
   "metadata": {},
   "source": [
    "While there is no issue with this in the dataframe, when fitting the model for Logistic Regression, this value caused issues due to being an object, and hence it would be necessary to convert the entire column to dummy variables. This seems excessive considering this is the only categorical entry, so we will instead change the value to ignore the core form and change the data type of the column to be int64."
   ]
  },
  {
   "cell_type": "code",
   "execution_count": 12,
   "metadata": {},
   "outputs": [
    {
     "data": {
      "text/plain": [
       "dtype('int64')"
      ]
     },
     "execution_count": 12,
     "metadata": {},
     "output_type": "execute_result"
    }
   ],
   "source": [
    "data.at[774, 'capture_rate'] = '30'\n",
    "data[['capture_rate']] = data[['capture_rate']].apply(pd.to_numeric)\n",
    "data['capture_rate'].dtypes"
   ]
  },
  {
   "cell_type": "markdown",
   "metadata": {},
   "source": [
    "Finally, the last piece of preparation is to change the type variables into dummy variables in order to allow them to be used as features in Logistic Regression. This also means we only need one set of dummy variables, since the possible values are the same for both features."
   ]
  },
  {
   "cell_type": "code",
   "execution_count": 13,
   "metadata": {},
   "outputs": [],
   "source": [
    "type1 = pd.get_dummies(data['type1'],drop_first=True)\n",
    "type2 = pd.get_dummies(data['type2'],drop_first=True)\n",
    "\n",
    "types_merged = pd.merge(type1, type2, on='pokedex_number', how='outer')\n",
    "\n",
    "#Merging the two dataframes\n",
    "types_merged['dark'] = types_merged['dark_x'].where(types_merged['dark_x']==1, types_merged['dark_y'])\n",
    "types_merged['dragon'] = types_merged['dragon_x'].where(types_merged['dragon_x']==1, types_merged['dragon_y'])\n",
    "types_merged['electric'] = types_merged['electric_x'].where(types_merged['electric_x']==1, types_merged['electric_y'])\n",
    "types_merged['fairy'] = types_merged['fairy_x'].where(types_merged['fairy_x']==1, types_merged['fairy_y'])\n",
    "types_merged['fighting'] = types_merged['fighting_x'].where(types_merged['fighting_x']==1, types_merged['fighting_y'])\n",
    "types_merged['fire'] = types_merged['fire_x'].where(types_merged['fire_x']==1, types_merged['fire_y'])\n",
    "types_merged['flying'] = types_merged['flying_x'].where(types_merged['flying_x']==1, types_merged['flying_y'])\n",
    "types_merged['ghost'] = types_merged['ghost_x'].where(types_merged['ghost_x']==1, types_merged['ghost_y'])\n",
    "types_merged['grass'] = types_merged['grass_x'].where(types_merged['grass_x']==1, types_merged['grass_y'])\n",
    "types_merged['ground'] = types_merged['ground_x'].where(types_merged['ground_x']==1, types_merged['ground_y'])\n",
    "types_merged['ice'] = types_merged['ice_x'].where(types_merged['ice_x']==1, types_merged['ice_y'])\n",
    "types_merged['normal'] = types_merged['normal_x'].where(types_merged['normal_x']==1, types_merged['normal_y'])\n",
    "types_merged['poison'] = types_merged['poison_x'].where(types_merged['poison_x']==1, types_merged['poison_y'])\n",
    "types_merged['psychic'] = types_merged['psychic_x'].where(types_merged['psychic_x']==1, types_merged['psychic_y'])\n",
    "types_merged['rock'] = types_merged['rock_x'].where(types_merged['rock_x']==1, types_merged['rock_y'])\n",
    "types_merged['steel'] = types_merged['steel_x'].where(types_merged['steel_x']==1, types_merged['steel_y'])\n",
    "types_merged['water'] = types_merged['water_x'].where(types_merged['water_x']==1, types_merged['water_y'])"
   ]
  },
  {
   "cell_type": "code",
   "execution_count": 14,
   "metadata": {},
   "outputs": [
    {
     "data": {
      "text/html": [
       "<div>\n",
       "<style scoped>\n",
       "    .dataframe tbody tr th:only-of-type {\n",
       "        vertical-align: middle;\n",
       "    }\n",
       "\n",
       "    .dataframe tbody tr th {\n",
       "        vertical-align: top;\n",
       "    }\n",
       "\n",
       "    .dataframe thead th {\n",
       "        text-align: right;\n",
       "    }\n",
       "</style>\n",
       "<table border=\"1\" class=\"dataframe\">\n",
       "  <thead>\n",
       "    <tr style=\"text-align: right;\">\n",
       "      <th></th>\n",
       "      <th>bug</th>\n",
       "      <th>dark</th>\n",
       "      <th>dragon</th>\n",
       "      <th>electric</th>\n",
       "      <th>fairy</th>\n",
       "      <th>fighting</th>\n",
       "      <th>fire</th>\n",
       "      <th>flying</th>\n",
       "      <th>ghost</th>\n",
       "      <th>grass</th>\n",
       "      <th>ground</th>\n",
       "      <th>ice</th>\n",
       "      <th>normal</th>\n",
       "      <th>poison</th>\n",
       "      <th>psychic</th>\n",
       "      <th>rock</th>\n",
       "      <th>steel</th>\n",
       "      <th>water</th>\n",
       "    </tr>\n",
       "    <tr>\n",
       "      <th>pokedex_number</th>\n",
       "      <th></th>\n",
       "      <th></th>\n",
       "      <th></th>\n",
       "      <th></th>\n",
       "      <th></th>\n",
       "      <th></th>\n",
       "      <th></th>\n",
       "      <th></th>\n",
       "      <th></th>\n",
       "      <th></th>\n",
       "      <th></th>\n",
       "      <th></th>\n",
       "      <th></th>\n",
       "      <th></th>\n",
       "      <th></th>\n",
       "      <th></th>\n",
       "      <th></th>\n",
       "      <th></th>\n",
       "    </tr>\n",
       "  </thead>\n",
       "  <tbody>\n",
       "    <tr>\n",
       "      <th>1</th>\n",
       "      <td>0</td>\n",
       "      <td>0</td>\n",
       "      <td>0</td>\n",
       "      <td>0</td>\n",
       "      <td>0</td>\n",
       "      <td>0</td>\n",
       "      <td>0</td>\n",
       "      <td>0</td>\n",
       "      <td>0</td>\n",
       "      <td>1</td>\n",
       "      <td>0</td>\n",
       "      <td>0</td>\n",
       "      <td>0</td>\n",
       "      <td>1</td>\n",
       "      <td>0</td>\n",
       "      <td>0</td>\n",
       "      <td>0</td>\n",
       "      <td>0</td>\n",
       "    </tr>\n",
       "    <tr>\n",
       "      <th>2</th>\n",
       "      <td>0</td>\n",
       "      <td>0</td>\n",
       "      <td>0</td>\n",
       "      <td>0</td>\n",
       "      <td>0</td>\n",
       "      <td>0</td>\n",
       "      <td>0</td>\n",
       "      <td>0</td>\n",
       "      <td>0</td>\n",
       "      <td>1</td>\n",
       "      <td>0</td>\n",
       "      <td>0</td>\n",
       "      <td>0</td>\n",
       "      <td>1</td>\n",
       "      <td>0</td>\n",
       "      <td>0</td>\n",
       "      <td>0</td>\n",
       "      <td>0</td>\n",
       "    </tr>\n",
       "    <tr>\n",
       "      <th>3</th>\n",
       "      <td>0</td>\n",
       "      <td>0</td>\n",
       "      <td>0</td>\n",
       "      <td>0</td>\n",
       "      <td>0</td>\n",
       "      <td>0</td>\n",
       "      <td>0</td>\n",
       "      <td>0</td>\n",
       "      <td>0</td>\n",
       "      <td>1</td>\n",
       "      <td>0</td>\n",
       "      <td>0</td>\n",
       "      <td>0</td>\n",
       "      <td>1</td>\n",
       "      <td>0</td>\n",
       "      <td>0</td>\n",
       "      <td>0</td>\n",
       "      <td>0</td>\n",
       "    </tr>\n",
       "    <tr>\n",
       "      <th>4</th>\n",
       "      <td>0</td>\n",
       "      <td>0</td>\n",
       "      <td>0</td>\n",
       "      <td>0</td>\n",
       "      <td>0</td>\n",
       "      <td>0</td>\n",
       "      <td>1</td>\n",
       "      <td>0</td>\n",
       "      <td>0</td>\n",
       "      <td>0</td>\n",
       "      <td>0</td>\n",
       "      <td>0</td>\n",
       "      <td>0</td>\n",
       "      <td>0</td>\n",
       "      <td>0</td>\n",
       "      <td>0</td>\n",
       "      <td>0</td>\n",
       "      <td>0</td>\n",
       "    </tr>\n",
       "    <tr>\n",
       "      <th>5</th>\n",
       "      <td>0</td>\n",
       "      <td>0</td>\n",
       "      <td>0</td>\n",
       "      <td>0</td>\n",
       "      <td>0</td>\n",
       "      <td>0</td>\n",
       "      <td>1</td>\n",
       "      <td>0</td>\n",
       "      <td>0</td>\n",
       "      <td>0</td>\n",
       "      <td>0</td>\n",
       "      <td>0</td>\n",
       "      <td>0</td>\n",
       "      <td>0</td>\n",
       "      <td>0</td>\n",
       "      <td>0</td>\n",
       "      <td>0</td>\n",
       "      <td>0</td>\n",
       "    </tr>\n",
       "    <tr>\n",
       "      <th>...</th>\n",
       "      <td>...</td>\n",
       "      <td>...</td>\n",
       "      <td>...</td>\n",
       "      <td>...</td>\n",
       "      <td>...</td>\n",
       "      <td>...</td>\n",
       "      <td>...</td>\n",
       "      <td>...</td>\n",
       "      <td>...</td>\n",
       "      <td>...</td>\n",
       "      <td>...</td>\n",
       "      <td>...</td>\n",
       "      <td>...</td>\n",
       "      <td>...</td>\n",
       "      <td>...</td>\n",
       "      <td>...</td>\n",
       "      <td>...</td>\n",
       "      <td>...</td>\n",
       "    </tr>\n",
       "    <tr>\n",
       "      <th>797</th>\n",
       "      <td>0</td>\n",
       "      <td>0</td>\n",
       "      <td>0</td>\n",
       "      <td>0</td>\n",
       "      <td>0</td>\n",
       "      <td>0</td>\n",
       "      <td>0</td>\n",
       "      <td>1</td>\n",
       "      <td>0</td>\n",
       "      <td>0</td>\n",
       "      <td>0</td>\n",
       "      <td>0</td>\n",
       "      <td>0</td>\n",
       "      <td>0</td>\n",
       "      <td>0</td>\n",
       "      <td>0</td>\n",
       "      <td>1</td>\n",
       "      <td>0</td>\n",
       "    </tr>\n",
       "    <tr>\n",
       "      <th>798</th>\n",
       "      <td>0</td>\n",
       "      <td>0</td>\n",
       "      <td>0</td>\n",
       "      <td>0</td>\n",
       "      <td>0</td>\n",
       "      <td>0</td>\n",
       "      <td>0</td>\n",
       "      <td>0</td>\n",
       "      <td>0</td>\n",
       "      <td>1</td>\n",
       "      <td>0</td>\n",
       "      <td>0</td>\n",
       "      <td>0</td>\n",
       "      <td>0</td>\n",
       "      <td>0</td>\n",
       "      <td>0</td>\n",
       "      <td>1</td>\n",
       "      <td>0</td>\n",
       "    </tr>\n",
       "    <tr>\n",
       "      <th>799</th>\n",
       "      <td>0</td>\n",
       "      <td>1</td>\n",
       "      <td>1</td>\n",
       "      <td>0</td>\n",
       "      <td>0</td>\n",
       "      <td>0</td>\n",
       "      <td>0</td>\n",
       "      <td>0</td>\n",
       "      <td>0</td>\n",
       "      <td>0</td>\n",
       "      <td>0</td>\n",
       "      <td>0</td>\n",
       "      <td>0</td>\n",
       "      <td>0</td>\n",
       "      <td>0</td>\n",
       "      <td>0</td>\n",
       "      <td>0</td>\n",
       "      <td>0</td>\n",
       "    </tr>\n",
       "    <tr>\n",
       "      <th>800</th>\n",
       "      <td>0</td>\n",
       "      <td>0</td>\n",
       "      <td>0</td>\n",
       "      <td>0</td>\n",
       "      <td>0</td>\n",
       "      <td>0</td>\n",
       "      <td>0</td>\n",
       "      <td>0</td>\n",
       "      <td>0</td>\n",
       "      <td>0</td>\n",
       "      <td>0</td>\n",
       "      <td>0</td>\n",
       "      <td>0</td>\n",
       "      <td>0</td>\n",
       "      <td>1</td>\n",
       "      <td>0</td>\n",
       "      <td>0</td>\n",
       "      <td>0</td>\n",
       "    </tr>\n",
       "    <tr>\n",
       "      <th>801</th>\n",
       "      <td>0</td>\n",
       "      <td>0</td>\n",
       "      <td>0</td>\n",
       "      <td>0</td>\n",
       "      <td>1</td>\n",
       "      <td>0</td>\n",
       "      <td>0</td>\n",
       "      <td>0</td>\n",
       "      <td>0</td>\n",
       "      <td>0</td>\n",
       "      <td>0</td>\n",
       "      <td>0</td>\n",
       "      <td>0</td>\n",
       "      <td>0</td>\n",
       "      <td>0</td>\n",
       "      <td>0</td>\n",
       "      <td>1</td>\n",
       "      <td>0</td>\n",
       "    </tr>\n",
       "  </tbody>\n",
       "</table>\n",
       "<p>801 rows × 18 columns</p>\n",
       "</div>"
      ],
      "text/plain": [
       "                bug  dark  dragon  electric  fairy  fighting  fire  flying  \\\n",
       "pokedex_number                                                               \n",
       "1                 0     0       0         0      0         0     0       0   \n",
       "2                 0     0       0         0      0         0     0       0   \n",
       "3                 0     0       0         0      0         0     0       0   \n",
       "4                 0     0       0         0      0         0     1       0   \n",
       "5                 0     0       0         0      0         0     1       0   \n",
       "...             ...   ...     ...       ...    ...       ...   ...     ...   \n",
       "797               0     0       0         0      0         0     0       1   \n",
       "798               0     0       0         0      0         0     0       0   \n",
       "799               0     1       1         0      0         0     0       0   \n",
       "800               0     0       0         0      0         0     0       0   \n",
       "801               0     0       0         0      1         0     0       0   \n",
       "\n",
       "                ghost  grass  ground  ice  normal  poison  psychic  rock  \\\n",
       "pokedex_number                                                             \n",
       "1                   0      1       0    0       0       1        0     0   \n",
       "2                   0      1       0    0       0       1        0     0   \n",
       "3                   0      1       0    0       0       1        0     0   \n",
       "4                   0      0       0    0       0       0        0     0   \n",
       "5                   0      0       0    0       0       0        0     0   \n",
       "...               ...    ...     ...  ...     ...     ...      ...   ...   \n",
       "797                 0      0       0    0       0       0        0     0   \n",
       "798                 0      1       0    0       0       0        0     0   \n",
       "799                 0      0       0    0       0       0        0     0   \n",
       "800                 0      0       0    0       0       0        1     0   \n",
       "801                 0      0       0    0       0       0        0     0   \n",
       "\n",
       "                steel  water  \n",
       "pokedex_number                \n",
       "1                   0      0  \n",
       "2                   0      0  \n",
       "3                   0      0  \n",
       "4                   0      0  \n",
       "5                   0      0  \n",
       "...               ...    ...  \n",
       "797                 1      0  \n",
       "798                 1      0  \n",
       "799                 0      0  \n",
       "800                 0      0  \n",
       "801                 1      0  \n",
       "\n",
       "[801 rows x 18 columns]"
      ]
     },
     "execution_count": 14,
     "metadata": {},
     "output_type": "execute_result"
    }
   ],
   "source": [
    "#Dropping _x and _y features\n",
    "types_merged.drop(['dark_x', 'dark_y', 'dragon_x', 'dragon_y', 'electric_x', 'electric_y','fairy_x', 'fairy_y', 'fighting_x', 'fighting_y', 'fire_x', 'fire_y', 'flying_x', 'flying_y','ghost_x', 'ghost_y', 'grass_x', 'grass_y', 'ground_x', 'ground_y', 'ice_x', 'ice_y','normal_x', 'normal_y', 'poison_x', 'poison_y', 'psychic_x', 'psychic_y', 'rock_x', 'rock_y','steel_x', 'steel_y', 'water_x', 'water_y'], axis=1, inplace=True)\n",
    "types_merged"
   ]
  },
  {
   "cell_type": "code",
   "execution_count": 15,
   "metadata": {},
   "outputs": [],
   "source": [
    "#Dropping the original type1 and type2 features\n",
    "data.drop(['type1', 'type2'],axis=1,inplace=True)"
   ]
  },
  {
   "cell_type": "code",
   "execution_count": 16,
   "metadata": {},
   "outputs": [],
   "source": [
    "#Merging the new type features back into the full data\n",
    "data = pd.concat([data, types_merged],axis=1)"
   ]
  },
  {
   "cell_type": "code",
   "execution_count": 17,
   "metadata": {},
   "outputs": [
    {
     "data": {
      "text/plain": [
       "array(['abilities', 'against_bug', 'against_dark', 'against_dragon',\n",
       "       'against_electric', 'against_fairy', 'against_fight',\n",
       "       'against_fire', 'against_flying', 'against_ghost', 'against_grass',\n",
       "       'against_ground', 'against_ice', 'against_normal',\n",
       "       'against_poison', 'against_psychic', 'against_rock',\n",
       "       'against_steel', 'against_water', 'attack', 'base_egg_steps',\n",
       "       'base_happiness', 'base_total', 'capture_rate', 'classfication',\n",
       "       'defense', 'experience_growth', 'height_m', 'hp', 'japanese_name',\n",
       "       'name', 'percentage_male', 'sp_attack', 'sp_defense', 'speed',\n",
       "       'weight_kg', 'generation', 'is_legendary', 'bug', 'dark', 'dragon',\n",
       "       'electric', 'fairy', 'fighting', 'fire', 'flying', 'ghost',\n",
       "       'grass', 'ground', 'ice', 'normal', 'poison', 'psychic', 'rock',\n",
       "       'steel', 'water'], dtype=object)"
      ]
     },
     "execution_count": 17,
     "metadata": {},
     "output_type": "execute_result"
    }
   ],
   "source": [
    "data.columns.values"
   ]
  },
  {
   "cell_type": "markdown",
   "metadata": {},
   "source": [
    "With this, the dataset is ready to be used for classification, although we can further narrow down our predictor variables."
   ]
  },
  {
   "cell_type": "markdown",
   "metadata": {},
   "source": [
    "## Data Preprocessing"
   ]
  },
  {
   "cell_type": "markdown",
   "metadata": {},
   "source": [
    "Though we can start using the machine learning classification as is, it is highly likely that some of the features of this dataset are not needed for proper prediction. In particular, the **against_?** series of features as well as the **generation** feature almost definitely bear no effect on the **is_legendary** attribute.\n",
    "\n",
    "Pairplot from Seaborne will be used to identify the highly correlated variables. Categorical values such as **name** will also be removed, as their primary use is identification. \n",
    "\n",
    "**NOTE:** This cell will take a bit of time to execute."
   ]
  },
  {
   "cell_type": "code",
   "execution_count": 18,
   "metadata": {
    "scrolled": true
   },
   "outputs": [
    {
     "data": {
      "text/plain": [
       "<seaborn.axisgrid.PairGrid at 0x1fe31530670>"
      ]
     },
     "execution_count": 18,
     "metadata": {},
     "output_type": "execute_result"
    },
    {
     "data": {
      "image/png": "[encoded data removed]",
      "text/plain": [
       "<Figure size 9251.5x180 with 51 Axes>"
      ]
     },
     "metadata": {
      "needs_background": "light"
     },
     "output_type": "display_data"
    }
   ],
   "source": [
    "x_vars = data.columns.values.tolist()\n",
    "x_vars.remove('is_legendary')\n",
    "x_vars.remove('name')\n",
    "x_vars.remove('japanese_name')\n",
    "x_vars.remove('classfication')\n",
    "x_vars.remove('abilities')\n",
    "sns.pairplot(data, x_vars = x_vars, y_vars = 'is_legendary', hue='is_legendary', diag_kind=None)\n",
    "#NOTE: Seaborne has a bug where the first plot in a pairplot will not show in some cases. One workaround is adding\n",
    "#'diag_kind=None' as an additional parameter.\n",
    "#https://github.com/mwaskom/seaborn/issues/2260"
   ]
  },
  {
   "cell_type": "markdown",
   "metadata": {},
   "source": [
    "From these, we can see a few correlations, as well as disregard several variables.\n",
    "\n",
    "**Definitive Correlations:**\n",
    "- For all stats **HP**, **attack**, **sp_attack**, **def**, **sp_defense**, and **speed**, those that are legendary tend to have higher values in general. This also aligns with the **base_total** attribute generally being very high on the legendary Pokémon save for a few outliers.\n",
    "- **experience_growth** seems to be higher on average, despite not having the highest value.\n",
    "- **base_egg_steps** seems to generally be higher (despite the amount of legendary Pokémon that can actually hatch from eggs being low.)\n",
    "- Almost universally, legendary Pokémon have a much lower **catch_rate**, being more difficult to catch.\n",
    "\n",
    "Scaterplots and boxplots of these features are depicted below to further show this beyond the pairplot above, though only **base_total** is shown of the stats:"
   ]
  },
  {
   "cell_type": "markdown",
   "metadata": {},
   "source": [
    "#### base_total"
   ]
  },
  {
   "cell_type": "code",
   "execution_count": 19,
   "metadata": {},
   "outputs": [
    {
     "data": {
      "image/png": "[encoded data removed]",
      "text/plain": [
       "<Figure size 432x288 with 1 Axes>"
      ]
     },
     "metadata": {
      "needs_background": "light"
     },
     "output_type": "display_data"
    }
   ],
   "source": [
    "plt.figure()\n",
    "plt.title('base_total')\n",
    "plt.xlabel('pokedex_number')\n",
    "base_total_plot = sns.scatterplot(y='base_total', x=data.index, data=data, hue='is_legendary')\n",
    "base_total_plot.legend(loc='right', bbox_to_anchor=(1.25, .1), borderaxespad=0, title='is_legendary')\n",
    "plt.show()"
   ]
  },
  {
   "cell_type": "code",
   "execution_count": 20,
   "metadata": {},
   "outputs": [
    {
     "data": {
      "text/plain": [
       "<AxesSubplot:title={'center':'base_total'}, xlabel='is_legendary'>"
      ]
     },
     "execution_count": 20,
     "metadata": {},
     "output_type": "execute_result"
    },
    {
     "data": {
      "image/png": "[encoded data removed]",
      "text/plain": [
       "<Figure size 360x360 with 1 Axes>"
      ]
     },
     "metadata": {
      "needs_background": "light"
     },
     "output_type": "display_data"
    }
   ],
   "source": [
    "data.boxplot(column='base_total', by='is_legendary', figsize=(5, 5))"
   ]
  },
  {
   "cell_type": "markdown",
   "metadata": {},
   "source": [
    "Regarding the two outliers in this plot, the cause of these is the fact that they are the only two legendary Pokémon that are part of en evolutionary line. This means that one eventually turns into another, which in turn becomes another. The members of this line are shown below:"
   ]
  },
  {
   "cell_type": "code",
   "execution_count": 21,
   "metadata": {},
   "outputs": [
    {
     "data": {
      "text/html": [
       "<div>\n",
       "<style scoped>\n",
       "    .dataframe tbody tr th:only-of-type {\n",
       "        vertical-align: middle;\n",
       "    }\n",
       "\n",
       "    .dataframe tbody tr th {\n",
       "        vertical-align: top;\n",
       "    }\n",
       "\n",
       "    .dataframe thead th {\n",
       "        text-align: right;\n",
       "    }\n",
       "</style>\n",
       "<table border=\"1\" class=\"dataframe\">\n",
       "  <thead>\n",
       "    <tr style=\"text-align: right;\">\n",
       "      <th></th>\n",
       "      <th>attack</th>\n",
       "      <th>base_egg_steps</th>\n",
       "      <th>base_happiness</th>\n",
       "      <th>base_total</th>\n",
       "      <th>capture_rate</th>\n",
       "      <th>classfication</th>\n",
       "      <th>defense</th>\n",
       "      <th>experience_growth</th>\n",
       "      <th>height_m</th>\n",
       "      <th>hp</th>\n",
       "      <th>...</th>\n",
       "      <th>name</th>\n",
       "      <th>percentage_male</th>\n",
       "      <th>sp_attack</th>\n",
       "      <th>sp_defense</th>\n",
       "      <th>speed</th>\n",
       "      <th>weight_kg</th>\n",
       "      <th>generation</th>\n",
       "      <th>is_legendary</th>\n",
       "      <th>bug</th>\n",
       "      <th>dark</th>\n",
       "    </tr>\n",
       "    <tr>\n",
       "      <th>pokedex_number</th>\n",
       "      <th></th>\n",
       "      <th></th>\n",
       "      <th></th>\n",
       "      <th></th>\n",
       "      <th></th>\n",
       "      <th></th>\n",
       "      <th></th>\n",
       "      <th></th>\n",
       "      <th></th>\n",
       "      <th></th>\n",
       "      <th></th>\n",
       "      <th></th>\n",
       "      <th></th>\n",
       "      <th></th>\n",
       "      <th></th>\n",
       "      <th></th>\n",
       "      <th></th>\n",
       "      <th></th>\n",
       "      <th></th>\n",
       "      <th></th>\n",
       "      <th></th>\n",
       "    </tr>\n",
       "  </thead>\n",
       "  <tbody>\n",
       "    <tr>\n",
       "      <th>789</th>\n",
       "      <td>29</td>\n",
       "      <td>30720</td>\n",
       "      <td>0</td>\n",
       "      <td>200</td>\n",
       "      <td>45</td>\n",
       "      <td>Nebula Pokémon</td>\n",
       "      <td>31</td>\n",
       "      <td>1250000</td>\n",
       "      <td>0.2</td>\n",
       "      <td>43</td>\n",
       "      <td>...</td>\n",
       "      <td>Cosmog</td>\n",
       "      <td>0.0</td>\n",
       "      <td>29</td>\n",
       "      <td>31</td>\n",
       "      <td>37</td>\n",
       "      <td>0.1</td>\n",
       "      <td>7</td>\n",
       "      <td>1</td>\n",
       "      <td>0</td>\n",
       "      <td>0</td>\n",
       "    </tr>\n",
       "    <tr>\n",
       "      <th>790</th>\n",
       "      <td>29</td>\n",
       "      <td>30720</td>\n",
       "      <td>0</td>\n",
       "      <td>400</td>\n",
       "      <td>45</td>\n",
       "      <td>Protostar Pokémon</td>\n",
       "      <td>131</td>\n",
       "      <td>1250000</td>\n",
       "      <td>0.1</td>\n",
       "      <td>43</td>\n",
       "      <td>...</td>\n",
       "      <td>Cosmoem</td>\n",
       "      <td>0.0</td>\n",
       "      <td>29</td>\n",
       "      <td>131</td>\n",
       "      <td>37</td>\n",
       "      <td>999.9</td>\n",
       "      <td>7</td>\n",
       "      <td>1</td>\n",
       "      <td>0</td>\n",
       "      <td>0</td>\n",
       "    </tr>\n",
       "  </tbody>\n",
       "</table>\n",
       "<p>2 rows × 21 columns</p>\n",
       "</div>"
      ],
      "text/plain": [
       "                attack  base_egg_steps  base_happiness  base_total  \\\n",
       "pokedex_number                                                       \n",
       "789                 29           30720               0         200   \n",
       "790                 29           30720               0         400   \n",
       "\n",
       "                capture_rate      classfication  defense  experience_growth  \\\n",
       "pokedex_number                                                                \n",
       "789                       45     Nebula Pokémon       31            1250000   \n",
       "790                       45  Protostar Pokémon      131            1250000   \n",
       "\n",
       "                height_m  hp  ...     name percentage_male  sp_attack  \\\n",
       "pokedex_number                ...                                       \n",
       "789                  0.2  43  ...   Cosmog             0.0         29   \n",
       "790                  0.1  43  ...  Cosmoem             0.0         29   \n",
       "\n",
       "                sp_defense  speed  weight_kg  generation  is_legendary  bug  \\\n",
       "pokedex_number                                                                \n",
       "789                     31     37        0.1           7             1    0   \n",
       "790                    131     37      999.9           7             1    0   \n",
       "\n",
       "                dark  \n",
       "pokedex_number        \n",
       "789                0  \n",
       "790                0  \n",
       "\n",
       "[2 rows x 21 columns]"
      ]
     },
     "execution_count": 21,
     "metadata": {},
     "output_type": "execute_result"
    }
   ],
   "source": [
    "data.iloc[788:790, 19:40]"
   ]
  },
  {
   "cell_type": "markdown",
   "metadata": {},
   "source": [
    "The latter sample then evolves into one of the two following which are much more consistent with legendary Pokémon, depending on certain conditions:"
   ]
  },
  {
   "cell_type": "code",
   "execution_count": 22,
   "metadata": {},
   "outputs": [
    {
     "data": {
      "text/html": [
       "<div>\n",
       "<style scoped>\n",
       "    .dataframe tbody tr th:only-of-type {\n",
       "        vertical-align: middle;\n",
       "    }\n",
       "\n",
       "    .dataframe tbody tr th {\n",
       "        vertical-align: top;\n",
       "    }\n",
       "\n",
       "    .dataframe thead th {\n",
       "        text-align: right;\n",
       "    }\n",
       "</style>\n",
       "<table border=\"1\" class=\"dataframe\">\n",
       "  <thead>\n",
       "    <tr style=\"text-align: right;\">\n",
       "      <th></th>\n",
       "      <th>attack</th>\n",
       "      <th>base_egg_steps</th>\n",
       "      <th>base_happiness</th>\n",
       "      <th>base_total</th>\n",
       "      <th>capture_rate</th>\n",
       "      <th>classfication</th>\n",
       "      <th>defense</th>\n",
       "      <th>experience_growth</th>\n",
       "      <th>height_m</th>\n",
       "      <th>hp</th>\n",
       "      <th>...</th>\n",
       "      <th>name</th>\n",
       "      <th>percentage_male</th>\n",
       "      <th>sp_attack</th>\n",
       "      <th>sp_defense</th>\n",
       "      <th>speed</th>\n",
       "      <th>weight_kg</th>\n",
       "      <th>generation</th>\n",
       "      <th>is_legendary</th>\n",
       "      <th>bug</th>\n",
       "      <th>dark</th>\n",
       "    </tr>\n",
       "    <tr>\n",
       "      <th>pokedex_number</th>\n",
       "      <th></th>\n",
       "      <th></th>\n",
       "      <th></th>\n",
       "      <th></th>\n",
       "      <th></th>\n",
       "      <th></th>\n",
       "      <th></th>\n",
       "      <th></th>\n",
       "      <th></th>\n",
       "      <th></th>\n",
       "      <th></th>\n",
       "      <th></th>\n",
       "      <th></th>\n",
       "      <th></th>\n",
       "      <th></th>\n",
       "      <th></th>\n",
       "      <th></th>\n",
       "      <th></th>\n",
       "      <th></th>\n",
       "      <th></th>\n",
       "      <th></th>\n",
       "    </tr>\n",
       "  </thead>\n",
       "  <tbody>\n",
       "    <tr>\n",
       "      <th>791</th>\n",
       "      <td>137</td>\n",
       "      <td>30720</td>\n",
       "      <td>0</td>\n",
       "      <td>680</td>\n",
       "      <td>45</td>\n",
       "      <td>Sunne Pokémon</td>\n",
       "      <td>107</td>\n",
       "      <td>1250000</td>\n",
       "      <td>3.4</td>\n",
       "      <td>137</td>\n",
       "      <td>...</td>\n",
       "      <td>Solgaleo</td>\n",
       "      <td>0.0</td>\n",
       "      <td>113</td>\n",
       "      <td>89</td>\n",
       "      <td>97</td>\n",
       "      <td>230.0</td>\n",
       "      <td>7</td>\n",
       "      <td>1</td>\n",
       "      <td>0</td>\n",
       "      <td>0</td>\n",
       "    </tr>\n",
       "    <tr>\n",
       "      <th>792</th>\n",
       "      <td>113</td>\n",
       "      <td>30720</td>\n",
       "      <td>0</td>\n",
       "      <td>680</td>\n",
       "      <td>45</td>\n",
       "      <td>Moone Pokémon</td>\n",
       "      <td>89</td>\n",
       "      <td>1250000</td>\n",
       "      <td>4.0</td>\n",
       "      <td>137</td>\n",
       "      <td>...</td>\n",
       "      <td>Lunala</td>\n",
       "      <td>0.0</td>\n",
       "      <td>137</td>\n",
       "      <td>107</td>\n",
       "      <td>97</td>\n",
       "      <td>120.0</td>\n",
       "      <td>7</td>\n",
       "      <td>1</td>\n",
       "      <td>0</td>\n",
       "      <td>0</td>\n",
       "    </tr>\n",
       "  </tbody>\n",
       "</table>\n",
       "<p>2 rows × 21 columns</p>\n",
       "</div>"
      ],
      "text/plain": [
       "                attack  base_egg_steps  base_happiness  base_total  \\\n",
       "pokedex_number                                                       \n",
       "791                137           30720               0         680   \n",
       "792                113           30720               0         680   \n",
       "\n",
       "                capture_rate  classfication  defense  experience_growth  \\\n",
       "pokedex_number                                                            \n",
       "791                       45  Sunne Pokémon      107            1250000   \n",
       "792                       45  Moone Pokémon       89            1250000   \n",
       "\n",
       "                height_m   hp  ...      name percentage_male  sp_attack  \\\n",
       "pokedex_number                 ...                                        \n",
       "791                  3.4  137  ...  Solgaleo             0.0        113   \n",
       "792                  4.0  137  ...    Lunala             0.0        137   \n",
       "\n",
       "                sp_defense  speed  weight_kg  generation  is_legendary  bug  \\\n",
       "pokedex_number                                                                \n",
       "791                     89     97      230.0           7             1    0   \n",
       "792                    107     97      120.0           7             1    0   \n",
       "\n",
       "                dark  \n",
       "pokedex_number        \n",
       "791                0  \n",
       "792                0  \n",
       "\n",
       "[2 rows x 21 columns]"
      ]
     },
     "execution_count": 22,
     "metadata": {},
     "output_type": "execute_result"
    }
   ],
   "source": [
    "data.iloc[790:792, 19:40]"
   ]
  },
  {
   "cell_type": "markdown",
   "metadata": {},
   "source": [
    "#### experience_growth"
   ]
  },
  {
   "cell_type": "code",
   "execution_count": 23,
   "metadata": {},
   "outputs": [
    {
     "data": {
      "image/png": "[encoded data removed]",
      "text/plain": [
       "<Figure size 432x288 with 1 Axes>"
      ]
     },
     "metadata": {
      "needs_background": "light"
     },
     "output_type": "display_data"
    }
   ],
   "source": [
    "plt.figure()\n",
    "plt.title('experience_growth')\n",
    "plt.xlabel('pokedex_number')\n",
    "experience_growth_plot = sns.scatterplot(y='experience_growth', x=data.index, data=data, hue='is_legendary')\n",
    "experience_growth_plot.legend(loc='right', bbox_to_anchor=(1.25, .1), borderaxespad=0, title='is_legendary')\n",
    "plt.show()"
   ]
  },
  {
   "cell_type": "code",
   "execution_count": 24,
   "metadata": {},
   "outputs": [
    {
     "data": {
      "text/plain": [
       "<AxesSubplot:title={'center':'experience_growth'}, xlabel='is_legendary'>"
      ]
     },
     "execution_count": 24,
     "metadata": {},
     "output_type": "execute_result"
    },
    {
     "data": {
      "image/png": "[encoded data removed]",
      "text/plain": [
       "<Figure size 360x360 with 1 Axes>"
      ]
     },
     "metadata": {
      "needs_background": "light"
     },
     "output_type": "display_data"
    }
   ],
   "source": [
    "data.boxplot(column='experience_growth', by='is_legendary', figsize=(5, 5))"
   ]
  },
  {
   "cell_type": "markdown",
   "metadata": {},
   "source": [
    "**NOTE:** Regarding this plot, an important point is that the y-axis is actually in millions, looking at the actual data for **experience_growth** shows this. The one outlier is just a single value differing from the others."
   ]
  },
  {
   "cell_type": "markdown",
   "metadata": {},
   "source": [
    "#### base_egg_steps"
   ]
  },
  {
   "cell_type": "code",
   "execution_count": 25,
   "metadata": {},
   "outputs": [
    {
     "data": {
      "image/png": "[encoded data removed]",
      "text/plain": [
       "<Figure size 432x288 with 1 Axes>"
      ]
     },
     "metadata": {
      "needs_background": "light"
     },
     "output_type": "display_data"
    }
   ],
   "source": [
    "plt.figure()\n",
    "plt.title('base_egg_steps')\n",
    "plt.xlabel('pokedex_number')\n",
    "base_egg_steps_plot = sns.scatterplot(y='base_egg_steps', x=data.index, data=data, hue='is_legendary')\n",
    "base_egg_steps_plot.legend(loc='right', bbox_to_anchor=(1.25, .1), borderaxespad=0, title='is_legendary')\n",
    "plt.show()"
   ]
  },
  {
   "cell_type": "code",
   "execution_count": 26,
   "metadata": {},
   "outputs": [
    {
     "data": {
      "text/plain": [
       "<AxesSubplot:title={'center':'base_egg_steps'}, xlabel='is_legendary'>"
      ]
     },
     "execution_count": 26,
     "metadata": {},
     "output_type": "execute_result"
    },
    {
     "data": {
      "image/png": "[encoded data removed]",
      "text/plain": [
       "<Figure size 360x360 with 1 Axes>"
      ]
     },
     "metadata": {
      "needs_background": "light"
     },
     "output_type": "display_data"
    }
   ],
   "source": [
    "data.boxplot(column='base_egg_steps', by='is_legendary', figsize=(5, 5))"
   ]
  },
  {
   "cell_type": "markdown",
   "metadata": {},
   "source": [
    "Outliers for the is_legendary category are the samples that actually can hatch from eggs."
   ]
  },
  {
   "cell_type": "markdown",
   "metadata": {},
   "source": [
    "#### capture_rate"
   ]
  },
  {
   "cell_type": "code",
   "execution_count": 27,
   "metadata": {},
   "outputs": [
    {
     "data": {
      "image/png": "[encoded data removed]",
      "text/plain": [
       "<Figure size 432x288 with 1 Axes>"
      ]
     },
     "metadata": {
      "needs_background": "light"
     },
     "output_type": "display_data"
    }
   ],
   "source": [
    "plt.figure()\n",
    "plt.title('capture_rate')\n",
    "plt.xlabel('pokedex_number')\n",
    "capture_rate_plot = sns.scatterplot(y='capture_rate', x=data.index, data=data, hue='is_legendary')\n",
    "capture_rate_plot.legend(loc='right', bbox_to_anchor=(1.25, .1), borderaxespad=0, title='is_legendary')\n",
    "plt.show()"
   ]
  },
  {
   "cell_type": "code",
   "execution_count": 28,
   "metadata": {},
   "outputs": [
    {
     "data": {
      "text/plain": [
       "<AxesSubplot:title={'center':'capture_rate'}, xlabel='is_legendary'>"
      ]
     },
     "execution_count": 28,
     "metadata": {},
     "output_type": "execute_result"
    },
    {
     "data": {
      "image/png": "[encoded data removed]",
      "text/plain": [
       "<Figure size 360x360 with 1 Axes>"
      ]
     },
     "metadata": {
      "needs_background": "light"
     },
     "output_type": "display_data"
    }
   ],
   "source": [
    "data.boxplot(column='capture_rate', by='is_legendary', figsize=(5, 5))"
   ]
  },
  {
   "cell_type": "markdown",
   "metadata": {},
   "source": [
    "As for the two outliers here, there is no real explanation, as they are standard legendary Pokémon, they just happen to have a very high catch rate. While the ones closer to the actual \"box\" of the is_legendary category are technically outliers, it is worth noting that they are still lower than Q1 on the other category."
   ]
  },
  {
   "cell_type": "markdown",
   "metadata": {},
   "source": [
    "**Non-correlated features:**\n",
    "- As mentioned previously, the **against_?** features are likely irrelevant, and are moreso an offshoot of the type variables.\n",
    "- **generation** is also irrelevant to prediction, the only correlation is that there are less legendary than non-legendary per generation, but this is not relevant towards prediction.\n",
    "- The variables **name**, **japanese_name**, and **classification** will all be dropped since they are categorical identifying features.\n",
    "\n",
    "**Other observations:**\n",
    "- **base_happiness** seems irrelevant, but due to one unique value in legendaries it might not be a good idea to remove it.\n",
    "- Though **abilities** undoubtedly can play a role in predicting a legendary, they need to be cut due to how the feature is represented (Stringified list). Including this as a feature would necessitate the creation of 233 different dummy variables.\n",
    "- Physical features such as **height_m** and **weight_kg**, as well as all of the type variables will be included. Despite no apparent correlation, disregarding them seems to not paint an accurate picture of physical characteristics.\n",
    "- **percentage_male** will also be included despite no apparent correlation for a similar reason, in addition to the fact that ignoring this feature overlooks that fact that some legendaries can be gendered (though it is a minority).\n",
    "\n",
    "From this, we will make two different dataframes, one X with the predictor variables, and another Y with the target variable."
   ]
  },
  {
   "cell_type": "code",
   "execution_count": 29,
   "metadata": {},
   "outputs": [],
   "source": [
    "predictor_features = ['attack', 'base_egg_steps', 'base_total', 'capture_rate',\n",
    "                     'defense', 'experience_growth', 'height_m', 'hp',\n",
    "                     'percentage_male', 'sp_attack', 'sp_defense', 'speed',\n",
    "                     'weight_kg', 'dark', 'dragon', 'electric', 'fairy', 'fighting',\n",
    "                     'fire', 'flying', 'ghost', 'grass', 'ground', 'ice', 'normal', 'poison', 'psychic',\n",
    "                     'rock', 'steel', 'water']\n",
    "\n",
    "y = data.is_legendary\n",
    "X = data[predictor_features]"
   ]
  },
  {
   "cell_type": "markdown",
   "metadata": {},
   "source": [
    "### A Note Regarding the data:"
   ]
  },
  {
   "cell_type": "markdown",
   "metadata": {},
   "source": [
    "Before going into the machine learning evaluation, it is important to note fact that this dataset is extremely imbalanced."
   ]
  },
  {
   "cell_type": "code",
   "execution_count": 30,
   "metadata": {},
   "outputs": [
    {
     "data": {
      "text/plain": [
       "0    731\n",
       "1     70\n",
       "Name: is_legendary, dtype: int64"
      ]
     },
     "execution_count": 30,
     "metadata": {},
     "output_type": "execute_result"
    }
   ],
   "source": [
    "data['is_legendary'].value_counts()"
   ]
  },
  {
   "cell_type": "code",
   "execution_count": 31,
   "metadata": {},
   "outputs": [
    {
     "data": {
      "text/plain": [
       "0    0.912609\n",
       "1    0.087391\n",
       "Name: is_legendary, dtype: float64"
      ]
     },
     "execution_count": 31,
     "metadata": {},
     "output_type": "execute_result"
    }
   ],
   "source": [
    "data['is_legendary'].value_counts(normalize='true')"
   ]
  },
  {
   "cell_type": "code",
   "execution_count": 32,
   "metadata": {},
   "outputs": [
    {
     "data": {
      "text/plain": [
       "<AxesSubplot:xlabel='is_legendary', ylabel='count'>"
      ]
     },
     "execution_count": 32,
     "metadata": {},
     "output_type": "execute_result"
    },
    {
     "data": {
      "image/png": "[encoded data removed]",
      "text/plain": [
       "<Figure size 432x288 with 1 Axes>"
      ]
     },
     "metadata": {
      "needs_background": "light"
     },
     "output_type": "display_data"
    }
   ],
   "source": [
    "sns.countplot(x='is_legendary', data = data)"
   ]
  },
  {
   "cell_type": "markdown",
   "metadata": {},
   "source": [
    "Only around 9% of the data consists of our target variable. For this reason, special measures will be taken when evaluating the effectiveness of the machine learning models. In particular, accuracy could be misleading, and as such, while it will still be shown, more focus will be given to precision, recall, F1 score and the confusion matrix."
   ]
  },
  {
   "cell_type": "markdown",
   "metadata": {},
   "source": [
    "## Classification via Machine Learning"
   ]
  },
  {
   "cell_type": "markdown",
   "metadata": {},
   "source": [
    "#### Splitting the data"
   ]
  },
  {
   "cell_type": "markdown",
   "metadata": {},
   "source": [
    "Since the target variable, is_legendary, is boolean, and hence categorical, we will use classification.\n",
    "\n",
    "We split the data set into the train set (70%) and the test set (30%). Note that both in the case of train_test_split and all further applicable functions, a **random_state** parameter will be set in order for analysis to be accurate."
   ]
  },
  {
   "cell_type": "code",
   "execution_count": 33,
   "metadata": {},
   "outputs": [],
   "source": [
    "from sklearn.model_selection import train_test_split\n",
    "X_train, X_test, y_train, y_test = train_test_split(X, y, test_size = 0.3, random_state=28)"
   ]
  },
  {
   "cell_type": "markdown",
   "metadata": {},
   "source": [
    "### Logistic Regression"
   ]
  },
  {
   "cell_type": "markdown",
   "metadata": {},
   "source": [
    "Logistic Regression does not have any critical hyperparameters to tune, so we are able to just create the model, train it on the train set, and use it to predict the test set."
   ]
  },
  {
   "cell_type": "code",
   "execution_count": 34,
   "metadata": {},
   "outputs": [],
   "source": [
    "from sklearn.linear_model import LogisticRegression\n",
    "reg = LogisticRegression(max_iter = 801)\n",
    "reg.fit(X_train, y_train)\n",
    "y_pred_lr = reg.predict(X_test)"
   ]
  },
  {
   "cell_type": "markdown",
   "metadata": {},
   "source": [
    "#### Evaluation"
   ]
  },
  {
   "cell_type": "markdown",
   "metadata": {},
   "source": [
    "We then can use the precision, recall, F1 Score and confusion matrix to evaluate the performance of the Logistic Regression model. Accuracy is also shown, but due to the imbalanced nature of this data set, it is not considered as much as a metric of evaluation."
   ]
  },
  {
   "cell_type": "code",
   "execution_count": 35,
   "metadata": {},
   "outputs": [
    {
     "data": {
      "text/plain": [
       "0.8500000000000001"
      ]
     },
     "execution_count": 35,
     "metadata": {},
     "output_type": "execute_result"
    }
   ],
   "source": [
    "from sklearn.metrics import f1_score\n",
    "f1_score(y_test, y_pred_lr)"
   ]
  },
  {
   "cell_type": "code",
   "execution_count": 36,
   "metadata": {},
   "outputs": [
    {
     "data": {
      "text/plain": [
       "0.8095238095238095"
      ]
     },
     "execution_count": 36,
     "metadata": {},
     "output_type": "execute_result"
    }
   ],
   "source": [
    "from sklearn.metrics import recall_score\n",
    "recall_score(y_test, y_pred_lr)"
   ]
  },
  {
   "cell_type": "code",
   "execution_count": 37,
   "metadata": {},
   "outputs": [
    {
     "data": {
      "text/plain": [
       "0.8947368421052632"
      ]
     },
     "execution_count": 37,
     "metadata": {},
     "output_type": "execute_result"
    }
   ],
   "source": [
    "from sklearn.metrics import precision_score\n",
    "precision_score(y_test, y_pred_lr)"
   ]
  },
  {
   "cell_type": "markdown",
   "metadata": {},
   "source": [
    "Full classification report:"
   ]
  },
  {
   "cell_type": "code",
   "execution_count": 38,
   "metadata": {},
   "outputs": [
    {
     "name": "stdout",
     "output_type": "stream",
     "text": [
      "              precision    recall  f1-score   support\n",
      "\n",
      "           0       0.98      0.99      0.99       220\n",
      "           1       0.89      0.81      0.85        21\n",
      "\n",
      "    accuracy                           0.98       241\n",
      "   macro avg       0.94      0.90      0.92       241\n",
      "weighted avg       0.97      0.98      0.97       241\n",
      "\n"
     ]
    }
   ],
   "source": [
    "from sklearn.metrics import classification_report\n",
    "print(classification_report(y_test, y_pred_lr))"
   ]
  },
  {
   "cell_type": "markdown",
   "metadata": {},
   "source": [
    "Confusion matrix:"
   ]
  },
  {
   "cell_type": "code",
   "execution_count": 39,
   "metadata": {},
   "outputs": [
    {
     "data": {
      "text/plain": [
       "array([[218,   2],\n",
       "       [  4,  17]], dtype=int64)"
      ]
     },
     "execution_count": 39,
     "metadata": {},
     "output_type": "execute_result"
    }
   ],
   "source": [
    "from sklearn.metrics import confusion_matrix\n",
    "confusion_matrix(y_test, y_pred_lr)"
   ]
  },
  {
   "cell_type": "markdown",
   "metadata": {},
   "source": [
    "Overall, the Logistic Regression model performed fairly well, with above 90% in precision, recall, and F1 score. These values could be slightly improved given the small sample size of legendary Pokémon, but for such an imbalanced data set, these results are very good."
   ]
  },
  {
   "cell_type": "markdown",
   "metadata": {},
   "source": [
    "#### Visualization"
   ]
  },
  {
   "cell_type": "markdown",
   "metadata": {},
   "source": [
    "Visualization of the ROC Curve:"
   ]
  },
  {
   "cell_type": "code",
   "execution_count": 40,
   "metadata": {},
   "outputs": [
    {
     "data": {
      "text/plain": [
       "Text(0.5, 1.0, 'Logistic Regression ROC Curve')"
      ]
     },
     "execution_count": 40,
     "metadata": {},
     "output_type": "execute_result"
    },
    {
     "data": {
      "image/png": "[encoded data removed]",
      "text/plain": [
       "<Figure size 432x288 with 1 Axes>"
      ]
     },
     "metadata": {
      "needs_background": "light"
     },
     "output_type": "display_data"
    }
   ],
   "source": [
    "y_pred_prob_lr = reg.predict_proba(X_test)[:,1]\n",
    "\n",
    "from sklearn.metrics import roc_curve\n",
    "\n",
    "fpr, tpr, threshold = roc_curve (y_test, y_pred_prob_lr)\n",
    "\n",
    "plt.plot(fpr, tpr, label = 'Logistic Regression')\n",
    "plt.xlabel('False Positive Rate')\n",
    "plt.ylabel('True Positive Rate')\n",
    "plt.title('Logistic Regression ROC Curve')"
   ]
  },
  {
   "cell_type": "markdown",
   "metadata": {},
   "source": [
    "AUC score:"
   ]
  },
  {
   "cell_type": "code",
   "execution_count": 41,
   "metadata": {},
   "outputs": [
    {
     "data": {
      "text/plain": [
       "0.9733766233766233"
      ]
     },
     "execution_count": 41,
     "metadata": {},
     "output_type": "execute_result"
    }
   ],
   "source": [
    "from sklearn.metrics import roc_auc_score\n",
    "roc_auc_score (y_test, y_pred_prob_lr)"
   ]
  },
  {
   "cell_type": "markdown",
   "metadata": {},
   "source": [
    "This is a very good AUC score overall."
   ]
  },
  {
   "cell_type": "markdown",
   "metadata": {},
   "source": [
    "### K-Nearest Neighbors"
   ]
  },
  {
   "cell_type": "markdown",
   "metadata": {},
   "source": [
    "Unlike Logistic Regression, K-Nearest Neighbors has a critical hyperparameters to tune in **n_neighbors**. However, a second hyperparameter in the **metric** parameter, which defines the distance metric used, will also be tuned. \n",
    "\n",
    "The list of distance metrics was taken directly from [The KNeighborsClassifier API Documentation](https://scikit-learn.org/stable/modules/generated/sklearn.neighbors.DistanceMetric.html)."
   ]
  },
  {
   "cell_type": "code",
   "execution_count": 42,
   "metadata": {},
   "outputs": [
    {
     "name": "stdout",
     "output_type": "stream",
     "text": [
      "Best cross-validation score: 0.951\n",
      "Best n_neighbors: 1\n",
      "Best distance metric: manhattan\n"
     ]
    }
   ],
   "source": [
    "from sklearn.neighbors import KNeighborsClassifier\n",
    "from sklearn.model_selection import cross_val_score\n",
    "from sklearn.model_selection import GridSearchCV\n",
    "from sklearn.model_selection import RepeatedStratifiedKFold\n",
    "\n",
    "knn = KNeighborsClassifier()\n",
    "#Range selected is odd neighbors from 1 to 21\n",
    "n_neighbors = np.arange(1, 21, 2)\n",
    "distances = ['euclidean', 'manhattan', 'chebyshev', 'minkowski',\n",
    "            'wminkowski', 'seuclidean', 'mahalanobis']\n",
    "\n",
    "param_grid = dict(n_neighbors=n_neighbors, metric=distances)\n",
    "cv = RepeatedStratifiedKFold(n_splits=10, n_repeats=3, random_state=28)\n",
    "grid = GridSearchCV(estimator=knn, param_grid=param_grid, n_jobs=-1, cv=cv, scoring='f1')\n",
    "grid_result = grid.fit(X_train, y_train)\n",
    "\n",
    "print(\"Best cross-validation score: {:.3f}\".format(grid_result.best_score_))\n",
    "best_n_neighbors = grid_result.best_params_.get('n_neighbors')\n",
    "best_distance_metric = grid_result.best_params_.get('metric')\n",
    "print(\"Best n_neighbors: {}\".format(best_n_neighbors))\n",
    "print(\"Best distance metric: {}\".format(best_distance_metric))"
   ]
  },
  {
   "cell_type": "markdown",
   "metadata": {},
   "source": [
    "Then using the **best_n_neighbors**, we train the model on the test set and test it on the test set."
   ]
  },
  {
   "cell_type": "code",
   "execution_count": 43,
   "metadata": {},
   "outputs": [],
   "source": [
    "knn = KNeighborsClassifier(n_neighbors=best_n_neighbors, metric=best_distance_metric)\n",
    "knn.fit(X_train, y_train)\n",
    "y_pred_knn = knn.predict(X_test)"
   ]
  },
  {
   "cell_type": "markdown",
   "metadata": {},
   "source": [
    "#### Evaluation"
   ]
  },
  {
   "cell_type": "markdown",
   "metadata": {},
   "source": [
    "We will then use the precision, recall, F1 Score and confusion matrix to evaluate the performance of the Logistic Regression model. Accuracy is also shown, but due to the imbalanced nature of this data set, it is not considered as much as a metric of evaluation."
   ]
  },
  {
   "cell_type": "code",
   "execution_count": 44,
   "metadata": {},
   "outputs": [
    {
     "data": {
      "text/plain": [
       "0.9767441860465117"
      ]
     },
     "execution_count": 44,
     "metadata": {},
     "output_type": "execute_result"
    }
   ],
   "source": [
    "from sklearn.metrics import f1_score\n",
    "f1_score(y_test, y_pred_knn)"
   ]
  },
  {
   "cell_type": "code",
   "execution_count": 45,
   "metadata": {},
   "outputs": [
    {
     "data": {
      "text/plain": [
       "1.0"
      ]
     },
     "execution_count": 45,
     "metadata": {},
     "output_type": "execute_result"
    }
   ],
   "source": [
    "from sklearn.metrics import recall_score\n",
    "recall_score(y_test, y_pred_knn)"
   ]
  },
  {
   "cell_type": "code",
   "execution_count": 46,
   "metadata": {},
   "outputs": [
    {
     "data": {
      "text/plain": [
       "0.9545454545454546"
      ]
     },
     "execution_count": 46,
     "metadata": {},
     "output_type": "execute_result"
    }
   ],
   "source": [
    "from sklearn.metrics import precision_score\n",
    "precision_score(y_test, y_pred_knn)"
   ]
  },
  {
   "cell_type": "markdown",
   "metadata": {},
   "source": [
    "Full classification report:"
   ]
  },
  {
   "cell_type": "code",
   "execution_count": 47,
   "metadata": {},
   "outputs": [
    {
     "name": "stdout",
     "output_type": "stream",
     "text": [
      "              precision    recall  f1-score   support\n",
      "\n",
      "           0       1.00      1.00      1.00       220\n",
      "           1       0.95      1.00      0.98        21\n",
      "\n",
      "    accuracy                           1.00       241\n",
      "   macro avg       0.98      1.00      0.99       241\n",
      "weighted avg       1.00      1.00      1.00       241\n",
      "\n"
     ]
    }
   ],
   "source": [
    "from sklearn.metrics import classification_report\n",
    "print(classification_report(y_test, y_pred_knn))"
   ]
  },
  {
   "cell_type": "markdown",
   "metadata": {},
   "source": [
    "Confusion matrix:"
   ]
  },
  {
   "cell_type": "code",
   "execution_count": 48,
   "metadata": {},
   "outputs": [
    {
     "data": {
      "text/plain": [
       "array([[219,   1],\n",
       "       [  0,  21]], dtype=int64)"
      ]
     },
     "execution_count": 48,
     "metadata": {},
     "output_type": "execute_result"
    }
   ],
   "source": [
    "from sklearn.metrics import confusion_matrix\n",
    "confusion_matrix(y_test, y_pred_knn)"
   ]
  },
  {
   "cell_type": "markdown",
   "metadata": {},
   "source": [
    "#### Visualization"
   ]
  },
  {
   "cell_type": "markdown",
   "metadata": {},
   "source": [
    "Visualization of the ROC Curve:"
   ]
  },
  {
   "cell_type": "code",
   "execution_count": 49,
   "metadata": {},
   "outputs": [
    {
     "data": {
      "text/plain": [
       "Text(0.5, 1.0, 'K-Nearest Neighbors ROC Curve')"
      ]
     },
     "execution_count": 49,
     "metadata": {},
     "output_type": "execute_result"
    },
    {
     "data": {
      "image/png": "[encoded data removed]",
      "text/plain": [
       "<Figure size 432x288 with 1 Axes>"
      ]
     },
     "metadata": {
      "needs_background": "light"
     },
     "output_type": "display_data"
    }
   ],
   "source": [
    "y_pred_prob_knn = knn.predict_proba(X_test)[:,1]\n",
    "\n",
    "from sklearn.metrics import roc_curve\n",
    "\n",
    "fpr, tpr, threshold = roc_curve (y_test, y_pred_prob_knn)\n",
    "\n",
    "plt.plot(fpr, tpr, label = 'K-Nearest Neighbors')\n",
    "plt.xlabel('False Positive Rate')\n",
    "plt.ylabel('True Positive Rate')\n",
    "plt.title('K-Nearest Neighbors ROC Curve')"
   ]
  },
  {
   "cell_type": "markdown",
   "metadata": {},
   "source": [
    "AUC score:"
   ]
  },
  {
   "cell_type": "code",
   "execution_count": 50,
   "metadata": {},
   "outputs": [
    {
     "data": {
      "text/plain": [
       "0.9977272727272728"
      ]
     },
     "execution_count": 50,
     "metadata": {},
     "output_type": "execute_result"
    }
   ],
   "source": [
    "from sklearn.metrics import roc_auc_score\n",
    "roc_auc_score (y_test, y_pred_prob_knn)"
   ]
  },
  {
   "cell_type": "markdown",
   "metadata": {},
   "source": [
    "This is also a very good AUC score, and higher than the Logistic Regression model."
   ]
  },
  {
   "cell_type": "markdown",
   "metadata": {},
   "source": [
    "##  Model Comparison"
   ]
  },
  {
   "cell_type": "markdown",
   "metadata": {},
   "source": [
    "Both models performed fairly well in testing. A **random_state** variable was set in order to evaluate the performances against each other, although it could be removed for different, albeit similar results."
   ]
  },
  {
   "cell_type": "markdown",
   "metadata": {},
   "source": [
    "### ROC AUC Score:"
   ]
  },
  {
   "cell_type": "markdown",
   "metadata": {},
   "source": [
    "While the ROC curve could be negatively affected by the imbalanced dataset, it should still be considered as a metric for evaluation."
   ]
  },
  {
   "cell_type": "code",
   "execution_count": 51,
   "metadata": {},
   "outputs": [
    {
     "data": {
      "text/plain": [
       "<matplotlib.legend.Legend at 0x1fe35224610>"
      ]
     },
     "execution_count": 51,
     "metadata": {},
     "output_type": "execute_result"
    },
    {
     "data": {
      "image/png": "[encoded data removed]",
      "text/plain": [
       "<Figure size 432x288 with 1 Axes>"
      ]
     },
     "metadata": {
      "needs_background": "light"
     },
     "output_type": "display_data"
    }
   ],
   "source": [
    "fpr, tpr, threshold = roc_curve (y_test, y_pred_prob_knn)\n",
    "\n",
    "plt.plot(fpr, tpr, label = 'K-Nearest Neighbors')\n",
    "plt.xlabel('False Positive Rate')\n",
    "plt.ylabel('True Positive Rate')\n",
    "\n",
    "fpr, tpr, threshold = roc_curve (y_test, y_pred_prob_lr)\n",
    "\n",
    "plt.plot(fpr, tpr, label = 'Logistic Regression')\n",
    "plt.title('Logistic Regression ROC Curve VS KNN ROC Curve')\n",
    "plt.legend(loc='right', bbox_to_anchor=(1.425, .125), borderaxespad=0, title='Algorithm')"
   ]
  },
  {
   "cell_type": "code",
   "execution_count": 52,
   "metadata": {},
   "outputs": [
    {
     "name": "stdout",
     "output_type": "stream",
     "text": [
      "Logistic Regression AUC Score:  0.9733766233766233\n",
      "K-Nearest Neighbors AUC Score:  0.9977272727272728\n"
     ]
    }
   ],
   "source": [
    "print(\"Logistic Regression AUC Score: \", roc_auc_score (y_test, y_pred_prob_lr))\n",
    "print(\"K-Nearest Neighbors AUC Score: \", roc_auc_score (y_test, y_pred_prob_knn))"
   ]
  },
  {
   "cell_type": "markdown",
   "metadata": {},
   "source": [
    "For the AUC score, K-nearest Neighbors was higher by around .024, or 2.4%. Looking at the ROC curve itself, we can see that K-Nearest-Neighbors tended to stay above that of Logistic Regression.\n",
    "\n",
    "However, as previously mentioned the ROC curve and AUC score could be misleading due to the imbalanced data set, so we will look at several other metrics as well."
   ]
  },
  {
   "cell_type": "markdown",
   "metadata": {},
   "source": [
    "#### LR: 0 - KNN: 1 "
   ]
  },
  {
   "cell_type": "markdown",
   "metadata": {},
   "source": [
    "### Recall"
   ]
  },
  {
   "cell_type": "code",
   "execution_count": 53,
   "metadata": {},
   "outputs": [
    {
     "name": "stdout",
     "output_type": "stream",
     "text": [
      "Logistic Regression recall:  0.8095238095238095\n",
      "K-Nearest Neighbors recall:  1.0\n"
     ]
    }
   ],
   "source": [
    "print(\"Logistic Regression recall: \", recall_score(y_test, y_pred_lr))\n",
    "print(\"K-Nearest Neighbors recall: \", recall_score(y_test, y_pred_knn))"
   ]
  },
  {
   "cell_type": "markdown",
   "metadata": {},
   "source": [
    "K-Nearest Neighbors also has not only a higher recall than Logistic Regression, but a perfect score for recall, which is a big plus for the model, considering the mission statement for this project was to create a classifier for legendary Pokémon."
   ]
  },
  {
   "cell_type": "markdown",
   "metadata": {},
   "source": [
    "#### LR: 0 - KNN: 2"
   ]
  },
  {
   "cell_type": "markdown",
   "metadata": {},
   "source": [
    "### Precision"
   ]
  },
  {
   "cell_type": "code",
   "execution_count": 54,
   "metadata": {},
   "outputs": [
    {
     "name": "stdout",
     "output_type": "stream",
     "text": [
      "Logistic Regression percision:  0.8947368421052632\n",
      "K-Nearest Neighbors percision:  0.9545454545454546\n"
     ]
    }
   ],
   "source": [
    "print(\"Logistic Regression precision: \", precision_score(y_test, y_pred_lr))\n",
    "print(\"K-Nearest Neighbors precision: \", precision_score(y_test, y_pred_knn))"
   ]
  },
  {
   "cell_type": "markdown",
   "metadata": {},
   "source": [
    "K-Nearest Neighbors once again outperforms Logistic Regression in this metric as well."
   ]
  },
  {
   "cell_type": "markdown",
   "metadata": {},
   "source": [
    "#### LR: 0 - KNN: 3"
   ]
  },
  {
   "cell_type": "markdown",
   "metadata": {},
   "source": [
    "### F1 Score"
   ]
  },
  {
   "cell_type": "code",
   "execution_count": 55,
   "metadata": {},
   "outputs": [
    {
     "name": "stdout",
     "output_type": "stream",
     "text": [
      "Logistic Regression F1 Score:  0.8500000000000001\n",
      "K-Nearest Neighbors F1 Score:  0.9767441860465117\n"
     ]
    }
   ],
   "source": [
    "print(\"Logistic Regression F1 Score: \", f1_score(y_test, y_pred_lr))\n",
    "print(\"K-Nearest Neighbors F1 Score: \", f1_score(y_test, y_pred_knn))"
   ]
  },
  {
   "cell_type": "markdown",
   "metadata": {},
   "source": [
    "As expected since the recall scores were the same and K-Nearest Neighbors had a higher recall, the F1 score for K-Nearest Neighbors is also higher than the Logistic Regression model."
   ]
  },
  {
   "cell_type": "markdown",
   "metadata": {},
   "source": [
    "#### LR: 0 - KNN: 4\n",
    "\n",
    "## KNN Performed Better Overall!"
   ]
  },
  {
   "cell_type": "markdown",
   "metadata": {},
   "source": [
    "However, for the sake of a full analysis, the confusion matrices side by side should show the full difference in performance."
   ]
  },
  {
   "cell_type": "code",
   "execution_count": 56,
   "metadata": {},
   "outputs": [
    {
     "name": "stdout",
     "output_type": "stream",
     "text": [
      "Logistic Regression:\n",
      " [[218   2]\n",
      " [  4  17]]\n",
      "\n",
      "K-Nearest Neighbors:\n",
      " [[219   1]\n",
      " [  0  21]]\n"
     ]
    }
   ],
   "source": [
    "print(\"Logistic Regression:\\n\", confusion_matrix(y_test, y_pred_lr))\n",
    "print(\"\\nK-Nearest Neighbors:\\n\", confusion_matrix(y_test, y_pred_knn))"
   ]
  },
  {
   "cell_type": "markdown",
   "metadata": {},
   "source": [
    "Overall, Logistic Regression predicted one more false positive and 4 more false negatives.\n",
    "\n",
    "It is important to note that while the Logistic Regression model did get outperformed, and generally is outperformed by the KNN model, it still does fairly well overall, often coming extremely close to the KNN model. The original **random_state** value chosen had it underperform by a single false negative in comparison to KNN (37 for both the train_test_split and the KFold declaration in KNN)."
   ]
  },
  {
   "cell_type": "markdown",
   "metadata": {},
   "source": [
    "## Classification Again Without Stats"
   ]
  },
  {
   "cell_type": "markdown",
   "metadata": {},
   "source": [
    "#### Preparation"
   ]
  },
  {
   "cell_type": "markdown",
   "metadata": {},
   "source": [
    "A secondary goal within this project was to predict a Pokémon's status as legendary or not without considering their stats (**hp**, **attack**, **sp_attack**, **defense**, **sp_defense**, **speed**, and **base_total**). This is one of the few areas where a correlation has been acknowledged, save for the two outliers in an evolutionary line previously mentioned within the Data Preparation section and one other outlier which many members of the Pokémon commiunity consider debatable in terms of its legendary status. It is noted that most legendary Pokémon have a BST (base stat total, corresponding to the **base_total** column) of either 580, 600 or 650, with some another common value being 570 for a group of legendaries introduced in the seventh generation.\n",
    "\n",
    "So if these columns were to be dropped, would the rates of correct predictions still be as good as above?"
   ]
  },
  {
   "cell_type": "code",
   "execution_count": 57,
   "metadata": {},
   "outputs": [
    {
     "data": {
      "text/html": [
       "<div>\n",
       "<style scoped>\n",
       "    .dataframe tbody tr th:only-of-type {\n",
       "        vertical-align: middle;\n",
       "    }\n",
       "\n",
       "    .dataframe tbody tr th {\n",
       "        vertical-align: top;\n",
       "    }\n",
       "\n",
       "    .dataframe thead th {\n",
       "        text-align: right;\n",
       "    }\n",
       "</style>\n",
       "<table border=\"1\" class=\"dataframe\">\n",
       "  <thead>\n",
       "    <tr style=\"text-align: right;\">\n",
       "      <th></th>\n",
       "      <th>base_egg_steps</th>\n",
       "      <th>capture_rate</th>\n",
       "      <th>experience_growth</th>\n",
       "      <th>height_m</th>\n",
       "      <th>percentage_male</th>\n",
       "      <th>weight_kg</th>\n",
       "      <th>dark</th>\n",
       "      <th>dragon</th>\n",
       "      <th>electric</th>\n",
       "      <th>fairy</th>\n",
       "      <th>...</th>\n",
       "      <th>ghost</th>\n",
       "      <th>grass</th>\n",
       "      <th>ground</th>\n",
       "      <th>ice</th>\n",
       "      <th>normal</th>\n",
       "      <th>poison</th>\n",
       "      <th>psychic</th>\n",
       "      <th>rock</th>\n",
       "      <th>steel</th>\n",
       "      <th>water</th>\n",
       "    </tr>\n",
       "    <tr>\n",
       "      <th>pokedex_number</th>\n",
       "      <th></th>\n",
       "      <th></th>\n",
       "      <th></th>\n",
       "      <th></th>\n",
       "      <th></th>\n",
       "      <th></th>\n",
       "      <th></th>\n",
       "      <th></th>\n",
       "      <th></th>\n",
       "      <th></th>\n",
       "      <th></th>\n",
       "      <th></th>\n",
       "      <th></th>\n",
       "      <th></th>\n",
       "      <th></th>\n",
       "      <th></th>\n",
       "      <th></th>\n",
       "      <th></th>\n",
       "      <th></th>\n",
       "      <th></th>\n",
       "      <th></th>\n",
       "    </tr>\n",
       "  </thead>\n",
       "  <tbody>\n",
       "    <tr>\n",
       "      <th>1</th>\n",
       "      <td>5120</td>\n",
       "      <td>45</td>\n",
       "      <td>1059860</td>\n",
       "      <td>0.7</td>\n",
       "      <td>88.1</td>\n",
       "      <td>6.9</td>\n",
       "      <td>0</td>\n",
       "      <td>0</td>\n",
       "      <td>0</td>\n",
       "      <td>0</td>\n",
       "      <td>...</td>\n",
       "      <td>0</td>\n",
       "      <td>1</td>\n",
       "      <td>0</td>\n",
       "      <td>0</td>\n",
       "      <td>0</td>\n",
       "      <td>1</td>\n",
       "      <td>0</td>\n",
       "      <td>0</td>\n",
       "      <td>0</td>\n",
       "      <td>0</td>\n",
       "    </tr>\n",
       "    <tr>\n",
       "      <th>2</th>\n",
       "      <td>5120</td>\n",
       "      <td>45</td>\n",
       "      <td>1059860</td>\n",
       "      <td>1.0</td>\n",
       "      <td>88.1</td>\n",
       "      <td>13.0</td>\n",
       "      <td>0</td>\n",
       "      <td>0</td>\n",
       "      <td>0</td>\n",
       "      <td>0</td>\n",
       "      <td>...</td>\n",
       "      <td>0</td>\n",
       "      <td>1</td>\n",
       "      <td>0</td>\n",
       "      <td>0</td>\n",
       "      <td>0</td>\n",
       "      <td>1</td>\n",
       "      <td>0</td>\n",
       "      <td>0</td>\n",
       "      <td>0</td>\n",
       "      <td>0</td>\n",
       "    </tr>\n",
       "    <tr>\n",
       "      <th>3</th>\n",
       "      <td>5120</td>\n",
       "      <td>45</td>\n",
       "      <td>1059860</td>\n",
       "      <td>2.0</td>\n",
       "      <td>88.1</td>\n",
       "      <td>100.0</td>\n",
       "      <td>0</td>\n",
       "      <td>0</td>\n",
       "      <td>0</td>\n",
       "      <td>0</td>\n",
       "      <td>...</td>\n",
       "      <td>0</td>\n",
       "      <td>1</td>\n",
       "      <td>0</td>\n",
       "      <td>0</td>\n",
       "      <td>0</td>\n",
       "      <td>1</td>\n",
       "      <td>0</td>\n",
       "      <td>0</td>\n",
       "      <td>0</td>\n",
       "      <td>0</td>\n",
       "    </tr>\n",
       "    <tr>\n",
       "      <th>4</th>\n",
       "      <td>5120</td>\n",
       "      <td>45</td>\n",
       "      <td>1059860</td>\n",
       "      <td>0.6</td>\n",
       "      <td>88.1</td>\n",
       "      <td>8.5</td>\n",
       "      <td>0</td>\n",
       "      <td>0</td>\n",
       "      <td>0</td>\n",
       "      <td>0</td>\n",
       "      <td>...</td>\n",
       "      <td>0</td>\n",
       "      <td>0</td>\n",
       "      <td>0</td>\n",
       "      <td>0</td>\n",
       "      <td>0</td>\n",
       "      <td>0</td>\n",
       "      <td>0</td>\n",
       "      <td>0</td>\n",
       "      <td>0</td>\n",
       "      <td>0</td>\n",
       "    </tr>\n",
       "    <tr>\n",
       "      <th>5</th>\n",
       "      <td>5120</td>\n",
       "      <td>45</td>\n",
       "      <td>1059860</td>\n",
       "      <td>1.1</td>\n",
       "      <td>88.1</td>\n",
       "      <td>19.0</td>\n",
       "      <td>0</td>\n",
       "      <td>0</td>\n",
       "      <td>0</td>\n",
       "      <td>0</td>\n",
       "      <td>...</td>\n",
       "      <td>0</td>\n",
       "      <td>0</td>\n",
       "      <td>0</td>\n",
       "      <td>0</td>\n",
       "      <td>0</td>\n",
       "      <td>0</td>\n",
       "      <td>0</td>\n",
       "      <td>0</td>\n",
       "      <td>0</td>\n",
       "      <td>0</td>\n",
       "    </tr>\n",
       "    <tr>\n",
       "      <th>...</th>\n",
       "      <td>...</td>\n",
       "      <td>...</td>\n",
       "      <td>...</td>\n",
       "      <td>...</td>\n",
       "      <td>...</td>\n",
       "      <td>...</td>\n",
       "      <td>...</td>\n",
       "      <td>...</td>\n",
       "      <td>...</td>\n",
       "      <td>...</td>\n",
       "      <td>...</td>\n",
       "      <td>...</td>\n",
       "      <td>...</td>\n",
       "      <td>...</td>\n",
       "      <td>...</td>\n",
       "      <td>...</td>\n",
       "      <td>...</td>\n",
       "      <td>...</td>\n",
       "      <td>...</td>\n",
       "      <td>...</td>\n",
       "      <td>...</td>\n",
       "    </tr>\n",
       "    <tr>\n",
       "      <th>797</th>\n",
       "      <td>30720</td>\n",
       "      <td>25</td>\n",
       "      <td>1250000</td>\n",
       "      <td>9.2</td>\n",
       "      <td>0.0</td>\n",
       "      <td>999.9</td>\n",
       "      <td>0</td>\n",
       "      <td>0</td>\n",
       "      <td>0</td>\n",
       "      <td>0</td>\n",
       "      <td>...</td>\n",
       "      <td>0</td>\n",
       "      <td>0</td>\n",
       "      <td>0</td>\n",
       "      <td>0</td>\n",
       "      <td>0</td>\n",
       "      <td>0</td>\n",
       "      <td>0</td>\n",
       "      <td>0</td>\n",
       "      <td>1</td>\n",
       "      <td>0</td>\n",
       "    </tr>\n",
       "    <tr>\n",
       "      <th>798</th>\n",
       "      <td>30720</td>\n",
       "      <td>255</td>\n",
       "      <td>1250000</td>\n",
       "      <td>0.3</td>\n",
       "      <td>0.0</td>\n",
       "      <td>0.1</td>\n",
       "      <td>0</td>\n",
       "      <td>0</td>\n",
       "      <td>0</td>\n",
       "      <td>0</td>\n",
       "      <td>...</td>\n",
       "      <td>0</td>\n",
       "      <td>1</td>\n",
       "      <td>0</td>\n",
       "      <td>0</td>\n",
       "      <td>0</td>\n",
       "      <td>0</td>\n",
       "      <td>0</td>\n",
       "      <td>0</td>\n",
       "      <td>1</td>\n",
       "      <td>0</td>\n",
       "    </tr>\n",
       "    <tr>\n",
       "      <th>799</th>\n",
       "      <td>30720</td>\n",
       "      <td>15</td>\n",
       "      <td>1250000</td>\n",
       "      <td>5.5</td>\n",
       "      <td>0.0</td>\n",
       "      <td>888.0</td>\n",
       "      <td>1</td>\n",
       "      <td>1</td>\n",
       "      <td>0</td>\n",
       "      <td>0</td>\n",
       "      <td>...</td>\n",
       "      <td>0</td>\n",
       "      <td>0</td>\n",
       "      <td>0</td>\n",
       "      <td>0</td>\n",
       "      <td>0</td>\n",
       "      <td>0</td>\n",
       "      <td>0</td>\n",
       "      <td>0</td>\n",
       "      <td>0</td>\n",
       "      <td>0</td>\n",
       "    </tr>\n",
       "    <tr>\n",
       "      <th>800</th>\n",
       "      <td>30720</td>\n",
       "      <td>3</td>\n",
       "      <td>1250000</td>\n",
       "      <td>2.4</td>\n",
       "      <td>0.0</td>\n",
       "      <td>230.0</td>\n",
       "      <td>0</td>\n",
       "      <td>0</td>\n",
       "      <td>0</td>\n",
       "      <td>0</td>\n",
       "      <td>...</td>\n",
       "      <td>0</td>\n",
       "      <td>0</td>\n",
       "      <td>0</td>\n",
       "      <td>0</td>\n",
       "      <td>0</td>\n",
       "      <td>0</td>\n",
       "      <td>1</td>\n",
       "      <td>0</td>\n",
       "      <td>0</td>\n",
       "      <td>0</td>\n",
       "    </tr>\n",
       "    <tr>\n",
       "      <th>801</th>\n",
       "      <td>30720</td>\n",
       "      <td>3</td>\n",
       "      <td>1250000</td>\n",
       "      <td>1.0</td>\n",
       "      <td>0.0</td>\n",
       "      <td>80.5</td>\n",
       "      <td>0</td>\n",
       "      <td>0</td>\n",
       "      <td>0</td>\n",
       "      <td>1</td>\n",
       "      <td>...</td>\n",
       "      <td>0</td>\n",
       "      <td>0</td>\n",
       "      <td>0</td>\n",
       "      <td>0</td>\n",
       "      <td>0</td>\n",
       "      <td>0</td>\n",
       "      <td>0</td>\n",
       "      <td>0</td>\n",
       "      <td>1</td>\n",
       "      <td>0</td>\n",
       "    </tr>\n",
       "  </tbody>\n",
       "</table>\n",
       "<p>801 rows × 23 columns</p>\n",
       "</div>"
      ],
      "text/plain": [
       "                base_egg_steps  capture_rate  experience_growth  height_m  \\\n",
       "pokedex_number                                                              \n",
       "1                         5120            45            1059860       0.7   \n",
       "2                         5120            45            1059860       1.0   \n",
       "3                         5120            45            1059860       2.0   \n",
       "4                         5120            45            1059860       0.6   \n",
       "5                         5120            45            1059860       1.1   \n",
       "...                        ...           ...                ...       ...   \n",
       "797                      30720            25            1250000       9.2   \n",
       "798                      30720           255            1250000       0.3   \n",
       "799                      30720            15            1250000       5.5   \n",
       "800                      30720             3            1250000       2.4   \n",
       "801                      30720             3            1250000       1.0   \n",
       "\n",
       "                percentage_male  weight_kg  dark  dragon  electric  fairy  \\\n",
       "pokedex_number                                                              \n",
       "1                          88.1        6.9     0       0         0      0   \n",
       "2                          88.1       13.0     0       0         0      0   \n",
       "3                          88.1      100.0     0       0         0      0   \n",
       "4                          88.1        8.5     0       0         0      0   \n",
       "5                          88.1       19.0     0       0         0      0   \n",
       "...                         ...        ...   ...     ...       ...    ...   \n",
       "797                         0.0      999.9     0       0         0      0   \n",
       "798                         0.0        0.1     0       0         0      0   \n",
       "799                         0.0      888.0     1       1         0      0   \n",
       "800                         0.0      230.0     0       0         0      0   \n",
       "801                         0.0       80.5     0       0         0      1   \n",
       "\n",
       "                ...  ghost  grass  ground  ice  normal  poison  psychic  rock  \\\n",
       "pokedex_number  ...                                                             \n",
       "1               ...      0      1       0    0       0       1        0     0   \n",
       "2               ...      0      1       0    0       0       1        0     0   \n",
       "3               ...      0      1       0    0       0       1        0     0   \n",
       "4               ...      0      0       0    0       0       0        0     0   \n",
       "5               ...      0      0       0    0       0       0        0     0   \n",
       "...             ...    ...    ...     ...  ...     ...     ...      ...   ...   \n",
       "797             ...      0      0       0    0       0       0        0     0   \n",
       "798             ...      0      1       0    0       0       0        0     0   \n",
       "799             ...      0      0       0    0       0       0        0     0   \n",
       "800             ...      0      0       0    0       0       0        1     0   \n",
       "801             ...      0      0       0    0       0       0        0     0   \n",
       "\n",
       "                steel  water  \n",
       "pokedex_number                \n",
       "1                   0      0  \n",
       "2                   0      0  \n",
       "3                   0      0  \n",
       "4                   0      0  \n",
       "5                   0      0  \n",
       "...               ...    ...  \n",
       "797                 1      0  \n",
       "798                 1      0  \n",
       "799                 0      0  \n",
       "800                 0      0  \n",
       "801                 1      0  \n",
       "\n",
       "[801 rows x 23 columns]"
      ]
     },
     "execution_count": 57,
     "metadata": {},
     "output_type": "execute_result"
    }
   ],
   "source": [
    "X_modified = X.drop(['hp', 'attack', 'sp_attack', 'defense', 'sp_defense', 'speed', 'base_total'], axis=1)\n",
    "X_modified.head(5)"
   ]
  },
  {
   "cell_type": "markdown",
   "metadata": {},
   "source": [
    "While this does leave very few features, several of the remaining were shown to have correlations with the **is_legendary** status in the Data Preparation section. Thus we will rerun the machine learning algorithms with this modified data to see if these other features can still lead to an accurate prediction."
   ]
  },
  {
   "cell_type": "markdown",
   "metadata": {},
   "source": [
    "#### Splitting the data"
   ]
  },
  {
   "cell_type": "markdown",
   "metadata": {},
   "source": [
    "As before, we will split the data with a **random_state** set (The same state is used in order to keep the same y variables)."
   ]
  },
  {
   "cell_type": "code",
   "execution_count": 58,
   "metadata": {},
   "outputs": [],
   "source": [
    "X_m_train, X_m_test, y_train, y_test = train_test_split(X_modified, y, test_size = 0.3, random_state=28)"
   ]
  },
  {
   "cell_type": "markdown",
   "metadata": {},
   "source": [
    "### Logistic Regression"
   ]
  },
  {
   "cell_type": "markdown",
   "metadata": {},
   "source": [
    "Creation of a Logistic Regression model, training, and testing it."
   ]
  },
  {
   "cell_type": "code",
   "execution_count": 59,
   "metadata": {},
   "outputs": [],
   "source": [
    "reg_m = LogisticRegression(max_iter = 801)\n",
    "reg_m.fit(X_m_train, y_train)\n",
    "y_pred_lr_m = reg_m.predict(X_m_test)"
   ]
  },
  {
   "cell_type": "markdown",
   "metadata": {},
   "source": [
    "#### Evaluation"
   ]
  },
  {
   "cell_type": "markdown",
   "metadata": {},
   "source": [
    "Again, we will use precision, recall, F1 score and the confusion matrix to evaluate the model."
   ]
  },
  {
   "cell_type": "code",
   "execution_count": 60,
   "metadata": {},
   "outputs": [
    {
     "data": {
      "text/plain": [
       "0.8717948717948718"
      ]
     },
     "execution_count": 60,
     "metadata": {},
     "output_type": "execute_result"
    }
   ],
   "source": [
    "f1_score(y_test, y_pred_lr_m)"
   ]
  },
  {
   "cell_type": "code",
   "execution_count": 61,
   "metadata": {},
   "outputs": [
    {
     "data": {
      "text/plain": [
       "0.8095238095238095"
      ]
     },
     "execution_count": 61,
     "metadata": {},
     "output_type": "execute_result"
    }
   ],
   "source": [
    "recall_score(y_test, y_pred_lr_m)"
   ]
  },
  {
   "cell_type": "code",
   "execution_count": 62,
   "metadata": {},
   "outputs": [
    {
     "data": {
      "text/plain": [
       "0.9444444444444444"
      ]
     },
     "execution_count": 62,
     "metadata": {},
     "output_type": "execute_result"
    }
   ],
   "source": [
    "precision_score(y_test, y_pred_lr_m)"
   ]
  },
  {
   "cell_type": "markdown",
   "metadata": {},
   "source": [
    "Full classification report:"
   ]
  },
  {
   "cell_type": "code",
   "execution_count": 63,
   "metadata": {},
   "outputs": [
    {
     "name": "stdout",
     "output_type": "stream",
     "text": [
      "              precision    recall  f1-score   support\n",
      "\n",
      "           0       0.98      1.00      0.99       220\n",
      "           1       0.94      0.81      0.87        21\n",
      "\n",
      "    accuracy                           0.98       241\n",
      "   macro avg       0.96      0.90      0.93       241\n",
      "weighted avg       0.98      0.98      0.98       241\n",
      "\n"
     ]
    }
   ],
   "source": [
    "print(classification_report(y_test, y_pred_lr_m))"
   ]
  },
  {
   "cell_type": "markdown",
   "metadata": {},
   "source": [
    "Confusion matrix:"
   ]
  },
  {
   "cell_type": "code",
   "execution_count": 64,
   "metadata": {},
   "outputs": [
    {
     "data": {
      "text/plain": [
       "array([[219,   1],\n",
       "       [  4,  17]], dtype=int64)"
      ]
     },
     "execution_count": 64,
     "metadata": {},
     "output_type": "execute_result"
    }
   ],
   "source": [
    "confusion_matrix(y_test, y_pred_lr_m)"
   ]
  },
  {
   "cell_type": "markdown",
   "metadata": {},
   "source": [
    "There is an improvement here, with less misclassified non-legendary Pokémon."
   ]
  },
  {
   "cell_type": "markdown",
   "metadata": {},
   "source": [
    "#### Visualization"
   ]
  },
  {
   "cell_type": "markdown",
   "metadata": {},
   "source": [
    "Visualization of the ROC Curve:"
   ]
  },
  {
   "cell_type": "code",
   "execution_count": 65,
   "metadata": {},
   "outputs": [
    {
     "data": {
      "text/plain": [
       "Text(0.5, 1.0, 'Logistic Regression ROC Curve')"
      ]
     },
     "execution_count": 65,
     "metadata": {},
     "output_type": "execute_result"
    },
    {
     "data": {
      "image/png": "[encoded data removed]",
      "text/plain": [
       "<Figure size 432x288 with 1 Axes>"
      ]
     },
     "metadata": {
      "needs_background": "light"
     },
     "output_type": "display_data"
    }
   ],
   "source": [
    "y_pred_prob_lr_m = reg_m.predict_proba(X_m_test)[:,1]\n",
    "\n",
    "fpr, tpr, threshold = roc_curve (y_test, y_pred_prob_lr_m)\n",
    "\n",
    "plt.plot(fpr, tpr, label = 'Logistic Regression')\n",
    "plt.xlabel('False Positive Rate')\n",
    "plt.ylabel('True Positive Rate')\n",
    "plt.title('Logistic Regression ROC Curve')"
   ]
  },
  {
   "cell_type": "markdown",
   "metadata": {},
   "source": [
    "AUC score:"
   ]
  },
  {
   "cell_type": "code",
   "execution_count": 66,
   "metadata": {},
   "outputs": [
    {
     "data": {
      "text/plain": [
       "0.9612554112554113"
      ]
     },
     "execution_count": 66,
     "metadata": {},
     "output_type": "execute_result"
    }
   ],
   "source": [
    "roc_auc_score (y_test, y_pred_prob_lr_m)"
   ]
  },
  {
   "cell_type": "markdown",
   "metadata": {},
   "source": [
    "A slightly worse, but very similar AUC score than the previous dataset."
   ]
  },
  {
   "cell_type": "markdown",
   "metadata": {},
   "source": [
    "### K-Nearest Neighbors"
   ]
  },
  {
   "cell_type": "markdown",
   "metadata": {},
   "source": [
    "Tuning the hyperparameters once again."
   ]
  },
  {
   "cell_type": "code",
   "execution_count": 67,
   "metadata": {},
   "outputs": [
    {
     "name": "stdout",
     "output_type": "stream",
     "text": [
      "Best cross-validation score: 0.940\n",
      "Best n_neighbors: 1\n",
      "Best distance metric: manhattan\n"
     ]
    }
   ],
   "source": [
    "knn_m = KNeighborsClassifier()\n",
    "#Range selected is odd neighbors from 1 to 21\n",
    "n_neighbors = np.arange(1, 21, 2)\n",
    "distances = ['euclidean', 'manhattan', 'chebyshev', 'minkowski',\n",
    "            'wminkowski', 'seuclidean', 'mahalanobis']\n",
    "\n",
    "param_grid = dict(n_neighbors=n_neighbors, metric=distances)\n",
    "cv = RepeatedStratifiedKFold(n_splits=10, n_repeats=3, random_state=28)\n",
    "grid = GridSearchCV(estimator=knn_m, param_grid=param_grid, n_jobs=-1, cv=cv, scoring='f1')\n",
    "grid_result = grid.fit(X_m_train, y_train)\n",
    "\n",
    "print(\"Best cross-validation score: {:.3f}\".format(grid_result.best_score_))\n",
    "best_n_neighbors = grid_result.best_params_.get('n_neighbors')\n",
    "best_distance_metric = grid_result.best_params_.get('metric')\n",
    "print(\"Best n_neighbors: {}\".format(best_n_neighbors))\n",
    "print(\"Best distance metric: {}\".format(best_distance_metric))"
   ]
  },
  {
   "cell_type": "markdown",
   "metadata": {},
   "source": [
    "Then using the **best_n_neighbors**, we train the model on the test set and test it on the test set."
   ]
  },
  {
   "cell_type": "code",
   "execution_count": 68,
   "metadata": {},
   "outputs": [],
   "source": [
    "knn_m = KNeighborsClassifier(n_neighbors=best_n_neighbors, metric=best_distance_metric)\n",
    "knn_m.fit(X_m_train, y_train)\n",
    "y_pred_knn_m = knn_m.predict(X_m_test)"
   ]
  },
  {
   "cell_type": "markdown",
   "metadata": {},
   "source": [
    "#### Evaluation"
   ]
  },
  {
   "cell_type": "markdown",
   "metadata": {},
   "source": [
    "Again, we will use precision, recall, F1 score and the confusion matrix to evaluate the model."
   ]
  },
  {
   "cell_type": "code",
   "execution_count": 69,
   "metadata": {},
   "outputs": [
    {
     "data": {
      "text/plain": [
       "0.9767441860465117"
      ]
     },
     "execution_count": 69,
     "metadata": {},
     "output_type": "execute_result"
    }
   ],
   "source": [
    "f1_score(y_test, y_pred_knn_m)"
   ]
  },
  {
   "cell_type": "code",
   "execution_count": 70,
   "metadata": {},
   "outputs": [
    {
     "data": {
      "text/plain": [
       "1.0"
      ]
     },
     "execution_count": 70,
     "metadata": {},
     "output_type": "execute_result"
    }
   ],
   "source": [
    "recall_score(y_test, y_pred_knn_m)"
   ]
  },
  {
   "cell_type": "code",
   "execution_count": 71,
   "metadata": {},
   "outputs": [
    {
     "data": {
      "text/plain": [
       "0.9545454545454546"
      ]
     },
     "execution_count": 71,
     "metadata": {},
     "output_type": "execute_result"
    }
   ],
   "source": [
    "precision_score(y_test, y_pred_knn_m)"
   ]
  },
  {
   "cell_type": "markdown",
   "metadata": {},
   "source": [
    "Full classification report:"
   ]
  },
  {
   "cell_type": "code",
   "execution_count": 72,
   "metadata": {},
   "outputs": [
    {
     "name": "stdout",
     "output_type": "stream",
     "text": [
      "              precision    recall  f1-score   support\n",
      "\n",
      "           0       1.00      1.00      1.00       220\n",
      "           1       0.95      1.00      0.98        21\n",
      "\n",
      "    accuracy                           1.00       241\n",
      "   macro avg       0.98      1.00      0.99       241\n",
      "weighted avg       1.00      1.00      1.00       241\n",
      "\n"
     ]
    }
   ],
   "source": [
    "print(classification_report(y_test, y_pred_knn_m))"
   ]
  },
  {
   "cell_type": "markdown",
   "metadata": {},
   "source": [
    "Confusion matrix:"
   ]
  },
  {
   "cell_type": "code",
   "execution_count": 73,
   "metadata": {},
   "outputs": [
    {
     "data": {
      "text/plain": [
       "array([[219,   1],\n",
       "       [  0,  21]], dtype=int64)"
      ]
     },
     "execution_count": 73,
     "metadata": {},
     "output_type": "execute_result"
    }
   ],
   "source": [
    "confusion_matrix(y_test, y_pred_knn_m)"
   ]
  },
  {
   "cell_type": "markdown",
   "metadata": {},
   "source": [
    "Slightly worse, but similar performance."
   ]
  },
  {
   "cell_type": "markdown",
   "metadata": {},
   "source": [
    "#### Visualization"
   ]
  },
  {
   "cell_type": "markdown",
   "metadata": {},
   "source": [
    "Visualization of the ROC Curve:"
   ]
  },
  {
   "cell_type": "code",
   "execution_count": 74,
   "metadata": {},
   "outputs": [
    {
     "data": {
      "text/plain": [
       "Text(0.5, 1.0, 'K-Nearest Neighbors ROC Curve')"
      ]
     },
     "execution_count": 74,
     "metadata": {},
     "output_type": "execute_result"
    },
    {
     "data": {
      "image/png": "[encoded data removed]",
      "text/plain": [
       "<Figure size 432x288 with 1 Axes>"
      ]
     },
     "metadata": {
      "needs_background": "light"
     },
     "output_type": "display_data"
    }
   ],
   "source": [
    "y_pred_prob_knn_m = knn_m.predict_proba(X_m_test)[:,1]\n",
    "\n",
    "fpr, tpr, threshold = roc_curve (y_test, y_pred_prob_knn_m)\n",
    "\n",
    "plt.plot(fpr, tpr, label = 'K-Nearest Neighbors')\n",
    "plt.xlabel('False Positive Rate')\n",
    "plt.ylabel('True Positive Rate')\n",
    "plt.title('K-Nearest Neighbors ROC Curve')"
   ]
  },
  {
   "cell_type": "markdown",
   "metadata": {},
   "source": [
    "AUC score:"
   ]
  },
  {
   "cell_type": "code",
   "execution_count": 75,
   "metadata": {},
   "outputs": [
    {
     "data": {
      "text/plain": [
       "0.9977272727272728"
      ]
     },
     "execution_count": 75,
     "metadata": {},
     "output_type": "execute_result"
    }
   ],
   "source": [
    "roc_auc_score (y_test, y_pred_prob_knn_m)"
   ]
  },
  {
   "cell_type": "markdown",
   "metadata": {},
   "source": [
    "Worse AUC score by around 4%, but still very good in terms of predictions."
   ]
  },
  {
   "cell_type": "markdown",
   "metadata": {},
   "source": [
    "### Model/Dataset Comparison"
   ]
  },
  {
   "cell_type": "markdown",
   "metadata": {},
   "source": [
    "We will compare the performance of the models on the new dataset versus the old dataset the same way as we compared the models initially."
   ]
  },
  {
   "cell_type": "code",
   "execution_count": 87,
   "metadata": {},
   "outputs": [
    {
     "data": {
      "text/plain": [
       "<matplotlib.legend.Legend at 0x1fe369168b0>"
      ]
     },
     "execution_count": 87,
     "metadata": {},
     "output_type": "execute_result"
    },
    {
     "data": {
      "image/png": "[encoded data removed]",
      "text/plain": [
       "<Figure size 432x288 with 1 Axes>"
      ]
     },
     "metadata": {
      "needs_background": "light"
     },
     "output_type": "display_data"
    }
   ],
   "source": [
    "fpr, tpr, threshold = roc_curve (y_test, y_pred_prob_knn)\n",
    "\n",
    "plt.plot(fpr, tpr, label = 'K-Nearest Neighbors (Stats')\n",
    "plt.xlabel('False Positive Rate')\n",
    "plt.ylabel('True Positive Rate')\n",
    "\n",
    "fpr, tpr, threshold = roc_curve (y_test, y_pred_prob_lr)\n",
    "\n",
    "plt.plot(fpr, tpr, label = 'Logistic Regression (Stats)')\n",
    "\n",
    "fpr, tpr, threshold = roc_curve (y_test, y_pred_prob_knn_m)\n",
    "\n",
    "plt.plot(fpr, tpr, label = 'K-Nearest Neighbors (No Stats)')\n",
    "\n",
    "fpr, tpr, threshold = roc_curve (y_test, y_pred_prob_lr_m)\n",
    "\n",
    "plt.plot(fpr, tpr, label = 'Logistic Regression (No Stats)')\n",
    "plt.title('Logistic Regression ROC Curve VS KNN ROC Curve')\n",
    "plt.legend(loc='right', bbox_to_anchor=(1.58, .2), borderaxespad=0, title='Algorithm')"
   ]
  },
  {
   "cell_type": "code",
   "execution_count": 89,
   "metadata": {},
   "outputs": [
    {
     "name": "stdout",
     "output_type": "stream",
     "text": [
      "Logistic Regression AUC Scores:\n",
      "Stats:  0.9733766233766233    No Stats:  0.9612554112554113\n",
      "K-Nearest Neighbors AUC Score:\n",
      "Stats:  0.9977272727272728    No Stats:  0.9977272727272728\n"
     ]
    }
   ],
   "source": [
    "print(\"Logistic Regression AUC Scores:\\nStats: \", roc_auc_score (y_test, y_pred_prob_lr), \"   No Stats: \", roc_auc_score (y_test, y_pred_prob_lr_m))\n",
    "print(\"K-Nearest Neighbors AUC Score:\\nStats: \", roc_auc_score (y_test, y_pred_prob_knn), \"   No Stats: \", roc_auc_score (y_test, y_pred_prob_knn_m))"
   ]
  },
  {
   "cell_type": "markdown",
   "metadata": {},
   "source": [
    "The Logistic Regression model performed slightly better with stats present, and K-Nearest Neighbors performed the same. The no stats AUC scores are both very good, however."
   ]
  },
  {
   "cell_type": "markdown",
   "metadata": {},
   "source": [
    "### Recall"
   ]
  },
  {
   "cell_type": "code",
   "execution_count": 91,
   "metadata": {},
   "outputs": [
    {
     "name": "stdout",
     "output_type": "stream",
     "text": [
      "Logistic Regression recall:\n",
      "Stats:  0.8095238095238095    No Stats:  0.8095238095238095\n",
      "K-Nearest Neighbors recall:\n",
      "Stats:  1.0    No Stats:  1.0\n"
     ]
    }
   ],
   "source": [
    "print(\"Logistic Regression recall:\\nStats: \", recall_score(y_test, y_pred_lr), \"   No Stats: \", recall_score(y_test, y_pred_lr_m))\n",
    "print(\"K-Nearest Neighbors recall:\\nStats: \", recall_score(y_test, y_pred_knn), \"   No Stats: \", recall_score(y_test, y_pred_knn_m))"
   ]
  },
  {
   "cell_type": "markdown",
   "metadata": {},
   "source": [
    "The recall on both sets were exactly the same, which is a good indicator that predictions are still possible without the stats being present."
   ]
  },
  {
   "cell_type": "markdown",
   "metadata": {},
   "source": [
    "### Precision"
   ]
  },
  {
   "cell_type": "code",
   "execution_count": 92,
   "metadata": {},
   "outputs": [
    {
     "name": "stdout",
     "output_type": "stream",
     "text": [
      "Logistic Regression percision:\n",
      "Stats:  0.8947368421052632    No Stats:  0.9444444444444444\n",
      "K-Nearest Neighbors percision:\n",
      "Stats:  0.9545454545454546    No Stats:  0.9545454545454546\n"
     ]
    }
   ],
   "source": [
    "print(\"Logistic Regression precision:\\nStats: \", precision_score(y_test, y_pred_lr), \"   No Stats: \", precision_score(y_test, y_pred_lr_m))\n",
    "print(\"K-Nearest Neighbors precision:\\nStats: \", precision_score(y_test, y_pred_knn), \"   No Stats: \", precision_score(y_test, y_pred_knn_m))"
   ]
  },
  {
   "cell_type": "markdown",
   "metadata": {},
   "source": [
    "The precision for the Logistic Regression model improved without stats present, which is surprising. K-Nearest Neighbors remained the same again."
   ]
  },
  {
   "cell_type": "markdown",
   "metadata": {},
   "source": [
    "### F1 Score"
   ]
  },
  {
   "cell_type": "code",
   "execution_count": 93,
   "metadata": {},
   "outputs": [
    {
     "name": "stdout",
     "output_type": "stream",
     "text": [
      "Logistic Regression F1 Score:\n",
      "Stats  0.8500000000000001    No Stats:  0.8717948717948718\n",
      "K-Nearest Neighbors F1 Score:\n",
      "Stats  0.9767441860465117    No Stats:  0.9767441860465117\n"
     ]
    }
   ],
   "source": [
    "print(\"Logistic Regression F1 Score:\\nStats \", f1_score(y_test, y_pred_lr), \"   No Stats: \", f1_score(y_test, y_pred_lr_m))\n",
    "print(\"K-Nearest Neighbors F1 Score:\\nStats \", f1_score(y_test, y_pred_knn), \"   No Stats: \", f1_score(y_test, y_pred_knn_m))"
   ]
  },
  {
   "cell_type": "markdown",
   "metadata": {},
   "source": [
    "As expected since the precision was higher for Logistic Regression without stats, the F1 score is also improved."
   ]
  },
  {
   "cell_type": "markdown",
   "metadata": {},
   "source": [
    "### Confusion Matrices"
   ]
  },
  {
   "cell_type": "code",
   "execution_count": 96,
   "metadata": {},
   "outputs": [
    {
     "name": "stdout",
     "output_type": "stream",
     "text": [
      "Logistic Regression (Stats):\n",
      " [[218   2]\n",
      " [  4  17]]\n",
      "\n",
      "Logistic Regression (No Stats):\n",
      " [[219   1]\n",
      " [  4  17]]\n",
      "\n",
      "K-Nearest Neighbors (Stats):\n",
      " [[219   1]\n",
      " [  0  21]]\n",
      "\n",
      "K-Nearest Neighbors (No Stats):\n",
      " [[219   1]\n",
      " [  0  21]]\n"
     ]
    }
   ],
   "source": [
    "print(\"Logistic Regression (Stats):\\n\", confusion_matrix(y_test, y_pred_lr))\n",
    "print(\"\\nLogistic Regression (No Stats):\\n\", confusion_matrix(y_test, y_pred_lr_m))\n",
    "\n",
    "print(\"\\nK-Nearest Neighbors (Stats):\\n\", confusion_matrix(y_test, y_pred_knn))\n",
    "print(\"\\nK-Nearest Neighbors (No Stats):\\n\", confusion_matrix(y_test, y_pred_knn_m))"
   ]
  },
  {
   "cell_type": "markdown",
   "metadata": {},
   "source": [
    "K-Nearest Neighbors performed exactly the same on the statless data, while Logistic Regression actually improved by misclassifying 1 less point on the statless data."
   ]
  },
  {
   "cell_type": "markdown",
   "metadata": {},
   "source": [
    "### Conclusion"
   ]
  },
  {
   "cell_type": "markdown",
   "metadata": {},
   "source": [
    "Stating that Logistic Regression performs better without stats might be ambitious, as it was a set state test and only a one sample improvement, but it can be said that both models succeed in classifying legendary Pokémon even without the confirmed correlated feature of stats, which further supports the observation that the features of **capture_rate**, **base_egg_steps**, and **experience_growth** are also correlated with a Pokémon's legendary status. Outside of the dataset observations, K-Nearest Neighbors still outperformed Logistic Regression in this case, only misidentifying one sample."
   ]
  },
  {
   "cell_type": "markdown",
   "metadata": {},
   "source": [
    "## Final Remarks"
   ]
  },
  {
   "cell_type": "markdown",
   "metadata": {},
   "source": [
    "In closing, in the case of creating a Legendary Pokémon Classifier, the K-Nearest Neighbors model outperformed, and seems to classify legendary Pokémon with a high precision and recall regardless of the **random_state** parameter. \n",
    "\n",
    "**Ideas to further improve the results:**\n",
    "- **Normalization of the data:** This ideally would improve performance, but when attempted, it ended up destroying the performance of the K-Nearest Neighbors model, rather than improving it as predicted. This is likely due to the imbalanced nature of the dataset.\n",
    "- **Balancing the dataset:** This was researched but ultimately decided against due to it being risky to do. Several resampling techniques exist for this, including oversampling the minority class, undersampling the majority class, or using synthetic sampling to create new samples.\n",
    "- **Some tuning of the Logistic Regression model:** While no hyperparameter exists, there are certain parameters that could be tuned for this model for slighly different results, such as the solver, penalty, and C values. While this would not drastically increase the performance of the model, it could potentially slightly improve."
   ]
  },
  {
   "cell_type": "code",
   "execution_count": null,
   "metadata": {},
   "outputs": [],
   "source": []
  }
 ],
 "metadata": {
  "kernelspec": {
   "display_name": "Python 3",
   "language": "python",
   "name": "python3"
  },
  "language_info": {
   "codemirror_mode": {
    "name": "ipython",
    "version": 3
   },
   "file_extension": ".py",
   "mimetype": "text/x-python",
   "name": "python",
   "nbconvert_exporter": "python",
   "pygments_lexer": "ipython3",
   "version": "3.8.5"
  }
 },
 "nbformat": 4,
 "nbformat_minor": 4
}
